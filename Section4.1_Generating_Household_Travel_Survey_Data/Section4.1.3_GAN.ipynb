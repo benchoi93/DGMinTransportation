{
 "cells": [
  {
   "cell_type": "code",
   "execution_count": 15,
   "id": "eb0dcda5-9b43-495a-9343-45cc44829faa",
   "metadata": {},
   "outputs": [],
   "source": [
    "import numpy as np\n",
    "import pandas as pd\n",
    "\n",
    "import torch\n",
    "import torch.nn as nn\n",
    "import torch.optim as optim\n",
    "import torch.nn.utils as utils\n",
    "from torch.utils.data import DataLoader\n",
    "\n",
    "import matplotlib.pyplot as plt"
   ]
  },
  {
   "cell_type": "code",
   "execution_count": 4,
   "id": "48e9bda3-82cb-4918-bfe1-11b881b4ef63",
   "metadata": {},
   "outputs": [],
   "source": [
    "np.random.seed(0)\n",
    "\n",
    "data = pd.read_csv('state_action.csv', index_col=None)\n",
    "data_size = 200000\n",
    "selected_idx = np.random.randint(0, len(data)-1, size=data_size)\n",
    "data_select = data[data.index.isin(selected_idx)][['start_type', 'act_num', 'mode_num', 'end_type']]"
   ]
  },
  {
   "cell_type": "code",
   "execution_count": 5,
   "id": "23bd42bb-9ee6-4a36-af45-f6bc22003653",
   "metadata": {},
   "outputs": [
    {
     "name": "stdout",
     "output_type": "stream",
     "text": [
      "Attribute Type = start_type\n",
      "Num of Categories in Attribute = 5\n",
      "Attribute Type = act_num\n",
      "Num of Categories in Attribute = 9\n",
      "Attribute Type = mode_num\n",
      "Num of Categories in Attribute = 9\n",
      "Attribute Type = end_type\n",
      "Num of Categories in Attribute = 5\n"
     ]
    }
   ],
   "source": [
    "latent_dims = []\n",
    "input_dim = 0\n",
    "hidden_dim = 512\n",
    "N = 10\n",
    "for column in data_select.columns:\n",
    "    print(f'Attribute Type = {column}')\n",
    "    print(f'Num of Categories in Attribute = {data_select[column].nunique()}')\n",
    "    latent_dims.append([N, data_select[column].nunique()])\n",
    "    input_dim += data_select[column].nunique()"
   ]
  },
  {
   "cell_type": "code",
   "execution_count": 6,
   "id": "87bcc5ae-776d-4a15-b314-d28b85c5cb53",
   "metadata": {},
   "outputs": [],
   "source": [
    "data_loader = DataLoader(data_select[['start_type', 'act_num', 'mode_num', 'end_type']].values, batch_size=250, shuffle=True)\n",
    "device = torch.device(\"cuda\" if torch.cuda.is_available() else \"cpu\")"
   ]
  },
  {
   "cell_type": "code",
   "execution_count": 104,
   "id": "2d4c9cf2-a620-413d-8634-98cd0e99d475",
   "metadata": {},
   "outputs": [],
   "source": [
    "import torch\n",
    "import torch.nn as nn\n",
    "import torch.optim as optim\n",
    "import torch.autograd as autograd\n",
    "\n",
    "# Hyperparameters\n",
    "latent_dim = 100\n",
    "num_epochs = 24\n",
    "input_dim = 4\n",
    "output_dim = 28  # Total number of categories (5 + 9 + 9 + 5)\n",
    "device = torch.device(\"cuda\" if torch.cuda.is_available() else \"cpu\")\n",
    "n_critic = 5\n",
    "\n",
    "class Generator(nn.Module):\n",
    "    def __init__(self, latent_dim, output_dim):\n",
    "        super(Generator, self).__init__()\n",
    "        self.model = nn.Sequential(\n",
    "            nn.Linear(latent_dim, 256),\n",
    "            nn.LeakyReLU(0.2),\n",
    "            nn.Linear(256, 512),\n",
    "            nn.LeakyReLU(0.2),\n",
    "            nn.Linear(512, output_dim)\n",
    "        )\n",
    "        self.category_sizes = [5, 9, 9, 5]\n",
    "        \n",
    "    def forward(self, z):\n",
    "        output = self.model(z)\n",
    "        start = 0\n",
    "        processed_output = []\n",
    "        for size in self.category_sizes:\n",
    "            end = start + size\n",
    "            category_output = nn.functional.softmax(output[:, start:end], dim=1)\n",
    "            processed_output.append(category_output)\n",
    "            start = end\n",
    "        return torch.cat(processed_output, dim=1)\n",
    "\n",
    "class Critic(nn.Module):\n",
    "    def __init__(self, input_dim):\n",
    "        super(Critic, self).__init__()\n",
    "        self.model = nn.Sequential(\n",
    "            nn.Linear(input_dim, 512),\n",
    "            nn.LeakyReLU(0.2),\n",
    "            nn.Linear(512, 256),\n",
    "            nn.LeakyReLU(0.2),\n",
    "            nn.Linear(256, 1)\n",
    "        )\n",
    "    \n",
    "    def forward(self, x):\n",
    "        return self.model(x)\n",
    "\n",
    "generator = Generator(latent_dim, output_dim).to(device)\n",
    "critic = Critic(output_dim).to(device)\n",
    "\n",
    "# Optimizers\n",
    "lr = 0.0001\n",
    "optimizer_G = optim.Adam(generator.parameters(), lr=lr, betas=(0.0, 0.9))\n",
    "optimizer_C = optim.Adam(critic.parameters(), lr=lr, betas=(0.0, 0.9))\n",
    "\n",
    "# Gradient penalty\n",
    "def compute_gradient_penalty(critic, real_samples, fake_samples):\n",
    "    alpha = torch.rand(real_samples.size(0), 1, device=device)\n",
    "    alpha = alpha.expand(real_samples.size())\n",
    "    \n",
    "    interpolates = alpha * real_samples + ((1 - alpha) * fake_samples)\n",
    "    interpolates = interpolates.requires_grad_(True)\n",
    "    \n",
    "    d_interpolates = critic(interpolates)\n",
    "    fake = torch.ones(d_interpolates.size(), device=device, requires_grad=False)\n",
    "    \n",
    "    gradients = autograd.grad(\n",
    "        outputs=d_interpolates,\n",
    "        inputs=interpolates,\n",
    "        grad_outputs=fake,\n",
    "        create_graph=True,\n",
    "        retain_graph=True,\n",
    "        only_inputs=True,\n",
    "    )[0]\n",
    "    \n",
    "    gradients = gradients.view(gradients.size(0), -1)\n",
    "    gradient_penalty = ((gradients.norm(2, dim=1) - 1) ** 2).mean()\n",
    "    return gradient_penalty"
   ]
  },
  {
   "cell_type": "code",
   "execution_count": 105,
   "id": "de347576-3c32-43dd-9756-a47104a8e414",
   "metadata": {},
   "outputs": [
    {
     "name": "stdout",
     "output_type": "stream",
     "text": [
      "Epoch [1/24] Critic Loss: -9.5132 Generator Loss: -1.8818\n",
      "Epoch [2/24] Critic Loss: -8.6267 Generator Loss: -2.2250\n",
      "Epoch [3/24] Critic Loss: -8.7140 Generator Loss: -2.3359\n",
      "Epoch [4/24] Critic Loss: -8.3658 Generator Loss: -2.3995\n",
      "Epoch [5/24] Critic Loss: -7.5147 Generator Loss: -2.4494\n",
      "Epoch [6/24] Critic Loss: -8.6626 Generator Loss: -2.5048\n",
      "Epoch [7/24] Critic Loss: -7.9015 Generator Loss: -2.4827\n",
      "Epoch [8/24] Critic Loss: -8.9888 Generator Loss: -2.5387\n",
      "Epoch [9/24] Critic Loss: -7.5694 Generator Loss: -2.5136\n",
      "Epoch [10/24] Critic Loss: -8.0396 Generator Loss: -2.5313\n",
      "Epoch [11/24] Critic Loss: -8.6274 Generator Loss: -2.5821\n",
      "Epoch [12/24] Critic Loss: -8.2084 Generator Loss: -2.5750\n",
      "Epoch [13/24] Critic Loss: -9.0494 Generator Loss: -2.5513\n",
      "Epoch [14/24] Critic Loss: -9.0738 Generator Loss: -2.5342\n",
      "Epoch [15/24] Critic Loss: -8.5942 Generator Loss: -2.5442\n",
      "Epoch [16/24] Critic Loss: -8.6515 Generator Loss: -2.5032\n",
      "Epoch [17/24] Critic Loss: -9.1964 Generator Loss: -2.5049\n",
      "Epoch [18/24] Critic Loss: -9.1143 Generator Loss: -2.4948\n",
      "Epoch [19/24] Critic Loss: -9.1846 Generator Loss: -2.4706\n",
      "Epoch [20/24] Critic Loss: -8.2305 Generator Loss: -2.3962\n",
      "Epoch [21/24] Critic Loss: -8.7325 Generator Loss: -2.3888\n",
      "Epoch [22/24] Critic Loss: -7.9434 Generator Loss: -2.2682\n",
      "Epoch [23/24] Critic Loss: -9.0454 Generator Loss: -2.3503\n",
      "Epoch [24/24] Critic Loss: -7.9851 Generator Loss: -2.2327\n",
      "Sample data:\n",
      "[4, 5, 6, 4]\n",
      "[4, 2, 6, 2]\n",
      "[4, 3, 0, 0]\n",
      "[1, 4, 7, 4]\n",
      "[2, 2, 1, 2]\n",
      "[0, 0, 2, 4]\n",
      "[2, 4, 7, 4]\n",
      "[4, 8, 3, 1]\n",
      "[2, 4, 2, 2]\n",
      "[0, 0, 6, 0]\n",
      "[2, 2, 1, 0]\n",
      "[4, 2, 3, 2]\n",
      "[2, 4, 4, 2]\n",
      "[2, 4, 1, 2]\n",
      "[1, 8, 6, 0]\n",
      "[4, 2, 4, 1]\n",
      "[4, 5, 3, 2]\n",
      "[2, 4, 1, 2]\n",
      "[4, 5, 0, 0]\n",
      "[2, 4, 1, 4]\n",
      "\n",
      "Distribution of generated samples:\n",
      "Category 1: [59.04069137573242, 56.856319427490234, 55.55181884765625, 7.362013275269419e-05, 56.55109405517578]\n",
      "Category 2: [28.22445297241211, 31.898094177246094, 30.378889083862305, 30.766939163208008, 32.62388610839844, 27.11982536315918, 18.19837188720703, 4.872071076533757e-05, 28.789491653442383]\n",
      "Category 3: [29.453922271728516, 29.221805572509766, 29.398637771606445, 29.83723258972168, 29.63385772705078, 28.716068267822266, 29.614139556884766, 22.124326705932617, 1.0432515409775078e-05]\n",
      "Category 4: [57.071510314941406, 55.476314544677734, 58.53898620605469, 1.4156264114717487e-05, 56.913169860839844]\n"
     ]
    }
   ],
   "source": [
    "# Training loop\n",
    "lambda_gp = 1\n",
    "category_sizes = [5, 9, 9, 5]\n",
    "\n",
    "for epoch in range(num_epochs):\n",
    "    for i, real_data in enumerate(data_loader):\n",
    "        batch_size = real_data.size(0)\n",
    "        real_data = real_data.long().to(device)\n",
    "        \n",
    "        # Train Critic\n",
    "        optimizer_C.zero_grad()\n",
    "        \n",
    "        # Generate fake data\n",
    "        z = torch.randn(batch_size, latent_dim, device=device)\n",
    "        fake_data = generator(z)\n",
    "        \n",
    "        # Real data processing\n",
    "        real_data_encoded = torch.zeros(batch_size, output_dim, device=device)\n",
    "        start = 0\n",
    "        for j, size in enumerate(category_sizes):\n",
    "            real_data_encoded[:, start + real_data[:, j]] = 1\n",
    "            start += size\n",
    "        \n",
    "        # Compute critic loss\n",
    "        real_validity = critic(real_data_encoded)\n",
    "        fake_validity = critic(fake_data.detach())\n",
    "        gradient_penalty = compute_gradient_penalty(critic, real_data_encoded, fake_data.detach())\n",
    "        \n",
    "        critic_loss = -torch.mean(real_validity) + torch.mean(fake_validity) + lambda_gp * gradient_penalty\n",
    "        critic_loss.backward()\n",
    "        optimizer_C.step()\n",
    "        \n",
    "        # Train Generator every n_critic iterations\n",
    "        if i % n_critic == 0:\n",
    "            optimizer_G.zero_grad()\n",
    "            \n",
    "            # Generate fake data\n",
    "            fake_data = generator(z)\n",
    "            fake_validity = critic(fake_data)\n",
    "            \n",
    "            # Compute generator loss\n",
    "            generator_loss = -torch.mean(fake_validity)\n",
    "            generator_loss.backward()\n",
    "            optimizer_G.step()\n",
    "        \n",
    "\n",
    "    print(f\"Epoch [{epoch+1}/{num_epochs}] \"\n",
    "          f\"Critic Loss: {critic_loss.item():.4f} Generator Loss: {generator_loss.item():.4f}\")\n",
    "\n",
    "# Generate sample data\n",
    "with torch.no_grad():\n",
    "    z = torch.randn(batch_size, latent_dim, device=device)\n",
    "    sample = generator(z)\n",
    "    print(\"Sample data:\")\n",
    "    for i in range(20):\n",
    "        categories = []\n",
    "        start = 0\n",
    "        for size in category_sizes:\n",
    "            end = start + size\n",
    "            category = torch.argmax(sample[i, start:end]).item()\n",
    "            categories.append(category)\n",
    "            start = end\n",
    "        print(categories)\n",
    "\n",
    "# Print distribution of generated samples\n",
    "print(\"\\nDistribution of generated samples:\")\n",
    "for i, size in enumerate(category_sizes):\n",
    "    start = sum(category_sizes[:i])\n",
    "    end = start + size\n",
    "    dist = torch.sum(sample[:, start:end], dim=0)\n",
    "    print(f\"Category {i+1}: {dist.tolist()}\")"
   ]
  },
  {
   "cell_type": "code",
   "execution_count": 106,
   "id": "5d7e30ef-feb3-4aaa-a640-dbfd00899cb1",
   "metadata": {},
   "outputs": [
    {
     "name": "stdout",
     "output_type": "stream",
     "text": [
      "Sample data:\n",
      "\n",
      "Distribution of generated samples:\n",
      "Category 1: [782.1312866210938, 749.912109375, 716.841064453125, 0.0031412383541464806, 751.1124267578125]\n",
      "Category 2: [385.62152099609375, 420.41778564453125, 398.53607177734375, 405.52691650390625, 402.6280212402344, 372.70440673828125, 229.32032775878906, 0.0019258286338299513, 385.2430114746094]\n",
      "Category 3: [391.0007629394531, 383.4546203613281, 397.5328369140625, 397.8799743652344, 390.387451171875, 385.78692626953125, 394.87615966796875, 259.08074951171875, 0.0005404620314948261]\n",
      "Category 4: [755.300537109375, 732.5770874023438, 764.8480224609375, 0.0007712212391197681, 747.273681640625]\n"
     ]
    }
   ],
   "source": [
    "# Generate sample data\n",
    "samples = []\n",
    "with torch.no_grad():\n",
    "    z = torch.randn(3000, latent_dim, device=device)\n",
    "    sample = generator(z)\n",
    "    print(\"Sample data:\")\n",
    "    for i in range(3000):\n",
    "        categories = []\n",
    "        start = 0\n",
    "        for size in category_sizes:\n",
    "            end = start + size\n",
    "            category = torch.argmax(sample[i, start:end]).item()\n",
    "            categories.append(category)\n",
    "            start = end\n",
    "        samples.append(categories)\n",
    "        \n",
    "\n",
    "# Print distribution of generated samples\n",
    "print(\"\\nDistribution of generated samples:\")\n",
    "for i, size in enumerate(category_sizes):\n",
    "    start = sum(category_sizes[:i])\n",
    "    end = start + size\n",
    "    dist = torch.sum(sample[:, start:end], dim=0)\n",
    "    print(f\"Category {i+1}: {dist.tolist()}\")"
   ]
  },
  {
   "cell_type": "code",
   "execution_count": 107,
   "id": "4dc885cb-9877-442a-92ef-cc0843673ded",
   "metadata": {},
   "outputs": [],
   "source": [
    "with torch.no_grad():\n",
    "    z = torch.randn(3000, latent_dim, device=device)\n",
    "    sample = generator(z)"
   ]
  },
  {
   "cell_type": "code",
   "execution_count": 103,
   "id": "c14e01b7-1856-4b7f-9841-6b695410ebcb",
   "metadata": {},
   "outputs": [
    {
     "data": {
      "image/png": "[encoded data removed]",
      "text/plain": [
       "<Figure size 432x288 with 1 Axes>"
      ]
     },
     "metadata": {
      "needs_background": "light"
     },
     "output_type": "display_data"
    },
    {
     "data": {
      "image/png": "[encoded data removed]",
      "text/plain": [
       "<Figure size 432x288 with 1 Axes>"
      ]
     },
     "metadata": {
      "needs_background": "light"
     },
     "output_type": "display_data"
    },
    {
     "data": {
      "image/png": "[encoded data removed]",
      "text/plain": [
       "<Figure size 432x288 with 1 Axes>"
      ]
     },
     "metadata": {
      "needs_background": "light"
     },
     "output_type": "display_data"
    },
    {
     "data": {
      "image/png": "[encoded data removed]",
      "text/plain": [
       "<Figure size 432x288 with 1 Axes>"
      ]
     },
     "metadata": {
      "needs_background": "light"
     },
     "output_type": "display_data"
    }
   ],
   "source": [
    "for idx, (K , name) in enumerate(zip([5, 9, 9, 5], ['start_type', 'act_num', 'mode_num', 'end_type'])):\n",
    "    end = start + K\n",
    "    unique, counts = np.unique(np.array(samples)[:,idx], return_counts=True)\n",
    "    plt.figure(figsize=(6,3.5))\n",
    "    plt.bar(unique, counts/counts.sum())\n",
    "    plt.title(name)\n",
    "    plt.xticks(np.arange(K))\n",
    "    plt.grid(axis = 'y')\n",
    "    plt.savefig(f'{name}_gan.png', dpi=300)\n",
    "    plt.show()\n",
    "    plt.close()\n",
    "    start = end"
   ]
  },
  {
   "cell_type": "code",
   "execution_count": null,
   "id": "ae340058-8ae6-47cb-811e-c68dc883d2ff",
   "metadata": {},
   "outputs": [],
   "source": []
  }
 ],
 "metadata": {
  "kernelspec": {
   "display_name": "Python 3",
   "language": "python",
   "name": "python3"
  },
  "language_info": {
   "codemirror_mode": {
    "name": "ipython",
    "version": 3
   },
   "file_extension": ".py",
   "mimetype": "text/x-python",
   "name": "python",
   "nbconvert_exporter": "python",
   "pygments_lexer": "ipython3",
   "version": "3.8.10"
  }
 },
 "nbformat": 4,
 "nbformat_minor": 5
}
