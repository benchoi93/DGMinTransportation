{
 "cells": [
  {
   "cell_type": "markdown",
   "metadata": {
    "tags": []
   },
   "source": [
    "# Section 4.1.5. Diffusion Models - DDPM"
   ]
  },
  {
   "cell_type": "markdown",
   "metadata": {},
   "source": [
    "## 1. Training Stage"
   ]
  },
  {
   "cell_type": "code",
   "execution_count": 1,
   "metadata": {},
   "outputs": [],
   "source": [
    "import numpy as np\n",
    "import pandas as pd\n",
    "\n",
    "import torch\n",
    "import torch.nn as nn\n",
    "import torch.optim as optim\n",
    "\n",
    "import matplotlib.pyplot as plt\n",
    "from matplotlib.ticker import FormatStrFormatter\n",
    "\n",
    "np.random.seed(0)\n",
    "torch.manual_seed(0)\n",
    "device = torch.device('cuda' if torch.cuda.is_available() else 'cpu')"
   ]
  },
  {
   "cell_type": "code",
   "execution_count": 2,
   "metadata": {},
   "outputs": [
    {
     "name": "stdout",
     "output_type": "stream",
     "text": [
      "Column 'start_type' has 5 unique categories.\n",
      "Column 'act_num' has 9 unique categories.\n",
      "Column 'mode_num' has 9 unique categories.\n",
      "Column 'end_type' has 5 unique categories.\n"
     ]
    }
   ],
   "source": [
    "hts_df = pd.read_csv('hts_example.csv', index_col=None)\n",
    "    \n",
    "num_categories = {}\n",
    "for column in hts_df.columns:\n",
    "    num_unique = hts_df[column].nunique()\n",
    "    num_categories[column] = num_unique\n",
    "    print(f\"Column '{column}' has {num_unique} unique categories.\")"
   ]
  },
  {
   "cell_type": "code",
   "execution_count": 3,
   "metadata": {},
   "outputs": [],
   "source": [
    "def dequantize_data(data):\n",
    "    data_continuous = data.copy().astype(float)\n",
    "    for column in data_continuous.columns:\n",
    "        data_continuous[column] += np.random.uniform(0, 1, size=data_continuous.shape[0])\n",
    "    return data_continuous\n",
    "\n",
    "data_continuous = dequantize_data(hts_df)\n",
    "data_tensor = torch.tensor(data_continuous.values, dtype=torch.float32).to(device)"
   ]
  },
  {
   "cell_type": "code",
   "execution_count": 4,
   "metadata": {},
   "outputs": [],
   "source": [
    "# Diffusion hyperparameters\n",
    "T = 1000  # Number of diffusion steps\n",
    "betas = torch.linspace(1e-4, 0.02, T).to(device)\n",
    "alphas = 1 - betas\n",
    "alphas_cumprod = torch.cumprod(alphas, dim=0).to(device)\n",
    "alphas_cumprod_prev = torch.cat([torch.tensor([1.0]).to(device), alphas_cumprod[:-1]])\n",
    "\n",
    "sqrt_alphas_cumprod = torch.sqrt(alphas_cumprod).to(device)\n",
    "sqrt_one_minus_alphas_cumprod = torch.sqrt(1 - alphas_cumprod).to(device)\n",
    "\n",
    "# Time Embedding Function\n",
    "def get_timestep_embedding(timesteps, embedding_dim):\n",
    "    \"\"\"\n",
    "    Generates sinusoidal timestep embeddings.\n",
    "    \"\"\"\n",
    "    half_dim = embedding_dim // 2\n",
    "    emb = np.log(10000) / (half_dim - 1)\n",
    "    emb = torch.exp(torch.arange(half_dim, device=device) * -emb).float()\n",
    "    emb = timesteps.float().unsqueeze(1) * emb.unsqueeze(0)\n",
    "    emb = torch.cat([torch.sin(emb), torch.cos(emb)], dim=1)\n",
    "    return emb  # Shape: (batch_size, embedding_dim)\n",
    "\n",
    "class DiffusionModel(nn.Module):\n",
    "    def __init__(self, input_dim, hidden_dim, time_embedding_dim=128):\n",
    "        super(DiffusionModel, self).__init__()\n",
    "        self.time_embedding_dim = time_embedding_dim\n",
    "        self.net = nn.Sequential(\n",
    "            nn.Linear(input_dim + time_embedding_dim, hidden_dim),\n",
    "            nn.ReLU(),\n",
    "            nn.Linear(hidden_dim, hidden_dim),\n",
    "            nn.ReLU(),\n",
    "            nn.Linear(hidden_dim, input_dim)\n",
    "        )\n",
    "\n",
    "    def forward(self, x, t):\n",
    "        \"\"\"\n",
    "        x: Noisy input data, shape (batch_size, input_dim)\n",
    "        t: Time steps, shape (batch_size,)\n",
    "        \"\"\"\n",
    "        t_emb = get_timestep_embedding(t, self.time_embedding_dim)  # Shape: (batch_size, time_embedding_dim)\n",
    "        x_t = torch.cat([x, t_emb], dim=1)  # Shape: (batch_size, input_dim + time_embedding_dim)\n",
    "        return self.net(x_t)  # Predicts the noise\n",
    "\n",
    "# Forward Diffusion (Adding Noise)\n",
    "def forward_diffusion_sample(x0, t):\n",
    "    \"\"\"\n",
    "    Takes an original sample x0 and a timestep t, returns the noisy sample x_t and the noise added.\n",
    "    \"\"\"\n",
    "    noise = torch.randn_like(x0).to(device)\n",
    "    sqrt_alpha_prod = sqrt_alphas_cumprod[t].view(-1, 1)  # Shape: (batch_size, 1)\n",
    "    sqrt_one_minus_alpha_prod = sqrt_one_minus_alphas_cumprod[t].view(-1, 1)  # Shape: (batch_size, 1)\n",
    "    x_t = sqrt_alpha_prod * x0 + sqrt_one_minus_alpha_prod * noise  # Shape: (batch_size, input_dim)\n",
    "    return x_t, noise\n"
   ]
  },
  {
   "cell_type": "code",
   "execution_count": 5,
   "metadata": {},
   "outputs": [],
   "source": [
    "hidden_dim = 256\n",
    "time_embedding_dim = 128\n",
    "\n",
    "input_dim = data_tensor.shape[1]\n",
    "diffusion_model = DiffusionModel(input_dim=input_dim, hidden_dim=hidden_dim, time_embedding_dim=time_embedding_dim).to(device)"
   ]
  },
  {
   "cell_type": "code",
   "execution_count": 6,
   "metadata": {},
   "outputs": [
    {
     "name": "stdout",
     "output_type": "stream",
     "text": [
      "Epoch [1/20], Loss: 0.323713\n",
      "Epoch [2/20], Loss: 0.272659\n",
      "Epoch [4/20], Loss: 0.260831\n",
      "Epoch [6/20], Loss: 0.253323\n",
      "Epoch [8/20], Loss: 0.251309\n",
      "Epoch [10/20], Loss: 0.251704\n",
      "Epoch [12/20], Loss: 0.247791\n",
      "Epoch [14/20], Loss: 0.249420\n",
      "Epoch [16/20], Loss: 0.245636\n",
      "Epoch [18/20], Loss: 0.246963\n",
      "Epoch [20/20], Loss: 0.247193\n"
     ]
    }
   ],
   "source": [
    "learning_rate = 1e-3\n",
    "batch_size = 512\n",
    "epochs = 20    \n",
    "\n",
    "optimizer = optim.Adam(diffusion_model.parameters(), lr=learning_rate)\n",
    "dataset = torch.utils.data.TensorDataset(data_tensor)\n",
    "dataloader = torch.utils.data.DataLoader(dataset, batch_size=batch_size, shuffle=True)\n",
    "\n",
    "diffusion_model.train()\n",
    "for epoch in range(1, epochs + 1):\n",
    "    epoch_loss = 0.0\n",
    "    for batch in dataloader:\n",
    "        x0 = batch[0].to(device)  # Original data\n",
    "        batch_size = x0.size(0)\n",
    "\n",
    "        # Sample a random time step for each data point\n",
    "        t = torch.randint(0, T, (batch_size,), device=device).long()\n",
    "\n",
    "        # Get the noisy sample and the true noise\n",
    "        x_t, noise = forward_diffusion_sample(x0, t)\n",
    "\n",
    "        # Predict the noise using the model\n",
    "        noise_pred = diffusion_model(x_t, t)\n",
    "\n",
    "        # Compute the loss (Mean Squared Error between predicted and true noise)\n",
    "        loss = nn.functional.mse_loss(noise_pred, noise)\n",
    "\n",
    "        # Backpropagation\n",
    "        optimizer.zero_grad()\n",
    "        loss.backward()\n",
    "        optimizer.step()\n",
    "\n",
    "        epoch_loss += loss.item()\n",
    "\n",
    "    # Logging\n",
    "    if epoch % 2 == 0 or epoch == 1:\n",
    "        avg_loss = epoch_loss / len(dataloader)\n",
    "        print(f'Epoch [{epoch}/{epochs}], Loss: {avg_loss:.6f}')"
   ]
  },
  {
   "cell_type": "markdown",
   "metadata": {},
   "source": [
    "## 2. Testing Stage"
   ]
  },
  {
   "cell_type": "code",
   "execution_count": 7,
   "metadata": {},
   "outputs": [],
   "source": [
    "columns = ['start_type', 'act_num', 'mode_num', 'end_type']\n",
    "num_samples=3000\n",
    "\n",
    "diffusion_model.eval()\n",
    "\n",
    "with torch.no_grad():\n",
    "    # Initialize x_T with random noise\n",
    "    x = torch.randn(num_samples, len(columns)).to(device)\n",
    "\n",
    "    # Iterate from T-1 to 0\n",
    "    for t in reversed(range(T)):\n",
    "        t_tensor = torch.full((num_samples,), t, device=device, dtype=torch.long)  # Shape: (num_samples,)\n",
    "        # Predict the noise\n",
    "        noise_pred = diffusion_model(x, t_tensor)  # Shape: (num_samples, input_dim)\n",
    "\n",
    "        # Compute coefficients\n",
    "        sqrt_alpha_t = sqrt_alphas_cumprod[t].view(1, 1).to(device)  # Shape: (1, 1)\n",
    "        sqrt_one_minus_alpha_t = sqrt_one_minus_alphas_cumprod[t].view(1, 1).to(device)  # Shape: (1, 1)\n",
    "        beta_t = betas[t].view(1, 1).to(device)  # Shape: (1, 1)\n",
    "\n",
    "        if t > 0:\n",
    "            noise = torch.randn_like(x).to(device)\n",
    "        else:\n",
    "            noise = torch.zeros_like(x).to(device)  # No noise at t=0\n",
    "\n",
    "        # Update x_t\n",
    "        x = (x - beta_t * noise_pred) / torch.sqrt(alphas[t]) + torch.sqrt(beta_t) * noise\n",
    "\n",
    "        # Numerical stability: clamp values to prevent extreme values\n",
    "        x = torch.clamp(x, -10, 10)\n",
    "\n",
    "# Map continuous samples back to categorical\n",
    "generated_categories = pd.DataFrame(x.cpu().numpy(), columns=columns)\n",
    "for column in columns:\n",
    "    max_cat = num_categories[column] - 1\n",
    "    # Apply floor and clamp to the valid range of categories\n",
    "    generated_categories[column] = np.floor(generated_categories[column]).astype(int)\n",
    "    generated_categories[column] = np.clip(generated_categories[column], 0, max_cat)"
   ]
  },
  {
   "cell_type": "code",
   "execution_count": 12,
   "metadata": {},
   "outputs": [
    {
     "name": "stderr",
     "output_type": "stream",
     "text": [
      "<ipython-input-12-b0187e9f1e47>:41: UserWarning: FixedFormatter should only be used together with FixedLocator\n",
      "  ax.set_yticklabels([f'{x:.2f}' for x in ax.get_yticks()], fontsize=15)\n"
     ]
    },
    {
     "data": {
      "image/png": "[encoded data removed]",
      "text/plain": [
       "<Figure size 1296x216 with 4 Axes>"
      ]
     },
     "metadata": {
      "needs_background": "light"
     },
     "output_type": "display_data"
    }
   ],
   "source": [
    "plt.rcParams['font.family'] = 'sans-serif'\n",
    "plt.rcParams['font.sans-serif'] = ['Arial'] + plt.rcParams['font.sans-serif']\n",
    "\n",
    "fig, axs = plt.subplots(1, 4, figsize=(18, 3))\n",
    "\n",
    "formatter = FormatStrFormatter('%.2f')\n",
    "\n",
    "fig.tight_layout(h_pad=1, w_pad=2)\n",
    "\n",
    "ylim_list = [0.60, 0.5, 0.3, 0.6]\n",
    "sub_title_list = ['Origin Location Type', 'Activity Type', 'Mode Type', 'Destination Location Type']\n",
    "bar_width = 0.35\n",
    "offset = bar_width / 2\n",
    "\n",
    "xtick_labels_list = [\n",
    "    ['Home', 'Work Place', 'School', 'Transfering', 'Other'],  # Start Location Type\n",
    "    ['Home', 'Travel', 'Work', 'Education', 'Academy', 'Leisure', 'Shopping', 'Escort', 'Other'],  # Activity Type\n",
    "    ['Start', 'End', 'Stay', 'Walk', 'Transit', 'Car (driver)', 'Car (passenger)', 'Bicycle', 'Taxi'],  # Mode Type\n",
    "    ['Home', 'Work Place', 'School', 'Transfering', 'Other']  # End Location Type\n",
    "]\n",
    "\n",
    "for column, ylim, sub_title, xtick_labels, ax in zip(columns, ylim_list, sub_title_list, xtick_labels_list, axs.flatten()):\n",
    "    \n",
    "    # Ground truth\n",
    "    unique_hts, counts_hts = np.unique(hts_df[column], return_counts=True)\n",
    "    ax.set_ylim([0, ylim])\n",
    "    positions_hts = np.arange(len(unique_hts))\n",
    "    ax.bar(positions_hts - offset, counts_hts / counts_hts.sum(), \n",
    "           width=bar_width, color='#00008F', edgecolor='black', alpha=0.3, label='Ground Truth')\n",
    "    \n",
    "    # Generated data\n",
    "    unique_gen, counts_gen = np.unique(generated_categories[column], return_counts=True)\n",
    "    positions_gen = np.arange(len(unique_gen))\n",
    "    ax.bar(positions_gen + offset, counts_gen / counts_gen.sum(), \n",
    "           width=bar_width, color='#FF4040', edgecolor='black', alpha=0.3, label='Generated')\n",
    "    \n",
    "    ax.set_xticks([int(x) for x in unique_hts])\n",
    "    ax.set_xticklabels(xtick_labels, fontsize=14, rotation=45, ha='right')\n",
    "    \n",
    "    ax.yaxis.set_major_formatter(formatter)\n",
    "    ax.set_yticklabels([f'{x:.2f}' for x in ax.get_yticks()], fontsize=15)\n",
    "\n",
    "    ax.set_title(sub_title, fontsize=14)\n",
    "\n",
    "fig.suptitle('DDPM', fontsize=16, y=1.15)\n",
    "fig.text(-0.03, 0.5, 'Proportion', va='center', rotation='vertical', fontsize=16)\n",
    "\n",
    "fig.legend(['Ground Truth', 'Generated'], loc='upper right', ncol=2, fontsize=12, \n",
    "           bbox_to_anchor=(1, 1.2), bbox_transform=fig.transFigure)\n",
    "\n",
    "plt.savefig(f'ddpm_discrete.png', bbox_inches='tight', dpi=400)\n",
    "plt.show()\n",
    "plt.close()"
   ]
  }
 ],
 "metadata": {
  "kernelspec": {
   "display_name": "Python 3",
   "language": "python",
   "name": "python3"
  },
  "language_info": {
   "codemirror_mode": {
    "name": "ipython",
    "version": 3
   },
   "file_extension": ".py",
   "mimetype": "text/x-python",
   "name": "python",
   "nbconvert_exporter": "python",
   "pygments_lexer": "ipython3",
   "version": "3.8.10"
  }
 },
 "nbformat": 4,
 "nbformat_minor": 4
}
