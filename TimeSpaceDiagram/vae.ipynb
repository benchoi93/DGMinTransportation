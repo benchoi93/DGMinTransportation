{
 "cells": [
  {
   "cell_type": "code",
   "execution_count": null,
   "metadata": {},
   "outputs": [],
   "source": [
    "import matplotlib.pyplot as plt\n",
    "import numpy as np\n",
    "import torch\n",
    "import torch.nn.functional as F\n",
    "import torch.optim as optim\n",
    "from torch.utils.data import DataLoader, TensorDataset\n",
    "from tqdm import tqdm"
   ]
  },
  {
   "cell_type": "code",
   "execution_count": null,
   "metadata": {},
   "outputs": [],
   "source": [
    "data = np.load(\"i24speedcontour_64.npy\")"
   ]
  },
  {
   "cell_type": "code",
   "execution_count": null,
   "metadata": {},
   "outputs": [],
   "source": [
    "fig, ax = plt.subplots(8, 8, figsize=(8, 8))\n",
    "for i in range(8):\n",
    "    for j in range(8):\n",
    "        ax[i, j].imshow(data[np.random.randint(data.shape[0])][0].T, origin=\"lower\" )\n",
    "        ax[i, j].axis(\"off\")\n"
   ]
  },
  {
   "cell_type": "code",
   "execution_count": null,
   "metadata": {},
   "outputs": [],
   "source": [
    "# each data has [4,64,64] size \n",
    "# 4 : number of lanes (channel)\n",
    "# 64 : spatial dimension (x)\n",
    "# 64 : temporal dimension (y)\n",
    "# value : speed\n",
    "\n",
    "data = torch.tensor(data, dtype=torch.float32)\n",
    "data = data.permute(0, 1, 3, 2)"
   ]
  },
  {
   "cell_type": "code",
   "execution_count": null,
   "metadata": {},
   "outputs": [],
   "source": [
    "import numpy as np\n",
    "import matplotlib.pyplot as plt\n",
    "\n",
    "# Parameters for the histogram\n",
    "num_bins = 100\n",
    "range_min = 0\n",
    "range_max = 150\n",
    "bin_edges = np.linspace(range_min, range_max, num_bins + 1)\n",
    "\n",
    "# Initialize an array to accumulate the histogram counts\n",
    "hist_counts = np.zeros(num_bins)\n",
    "\n",
    "# Process the array in chunks\n",
    "chunk_size = 100  # Adjust chunk size based on your memory constraints\n",
    "num_chunks = data.shape[0] // chunk_size\n",
    "\n",
    "for i in range(num_chunks):\n",
    "    chunk = data[i * chunk_size: (i + 1) * chunk_size]\n",
    "    hist_counts += np.histogram(chunk, bins=bin_edges)[0]\n",
    "\n",
    "# Process any remaining data that wasn't included in the chunks\n",
    "if data.shape[0] % chunk_size != 0:\n",
    "    remaining_data = data[num_chunks * chunk_size:]\n",
    "    hist_counts += np.histogram(remaining_data, bins=bin_edges)[0]\n",
    "\n",
    "# Plot the histogram\n",
    "plt.figure(figsize=(10, 6))\n",
    "plt.bar(bin_edges[:-1], hist_counts, width=bin_edges[1] - bin_edges[0], edgecolor='black')\n",
    "plt.xlim(range_min, range_max)\n",
    "plt.xlabel('Speed (ft/s)')\n",
    "plt.ylabel('Frequency')\n",
    "plt.title('Histogram of Speed Data')\n",
    "plt.show()"
   ]
  },
  {
   "cell_type": "code",
   "execution_count": null,
   "metadata": {},
   "outputs": [],
   "source": [
    "# Normalize the data with min-max scaling\n",
    "\n",
    "data_min = 0 # data.min()\n",
    "data_max = data.max()\n",
    "\n",
    "data = (data - data_min) / (data_max - data_min)"
   ]
  },
  {
   "cell_type": "code",
   "execution_count": null,
   "metadata": {},
   "outputs": [],
   "source": [
    "# Split the data into training and validation sets\n",
    "train_size = int(0.8 * len(data))\n",
    "val_size = len(data) - train_size\n",
    "\n",
    "train_data, val_data = torch.utils.data.random_split(data, [train_size, val_size])\n",
    "\n",
    "# Create data loaders\n",
    "train_loader = DataLoader(train_data, batch_size=64, shuffle=True)\n",
    "val_loader = DataLoader(val_data, batch_size=64, shuffle=False)"
   ]
  },
  {
   "cell_type": "code",
   "execution_count": null,
   "metadata": {},
   "outputs": [],
   "source": [
    "# Define Variational Autoencoder model\n",
    "import torch.nn as nn\n",
    "\n",
    "class VAE(nn.Module):\n",
    "    def __init__(self, latent_dim):\n",
    "        super(VAE, self).__init__()\n",
    "        self.latent_dim = latent_dim\n",
    "\n",
    "        # Encoder\n",
    "        self.enc_conv1 = nn.Conv2d(4, 32, 3, stride=2, padding=1)\n",
    "        self.enc_conv2 = nn.Conv2d(32, 64, 3, stride=2, padding=1)\n",
    "        self.enc_conv3 = nn.Conv2d(64, 128, 3, stride=2, padding=1)\n",
    "        self.enc_fc_mu = nn.Linear(128 * 8 * 8, latent_dim)\n",
    "        self.enc_fc_logvar = nn.Linear(128 * 8 * 8, latent_dim)\n",
    "\n",
    "        # Decoder\n",
    "        self.dec_fc = nn.Linear(latent_dim, 128 * 8 * 8)\n",
    "        self.dec_conv1 = nn.ConvTranspose2d(128, 64, 3, stride=2, padding=1, output_padding=1)\n",
    "        self.dec_conv2 = nn.ConvTranspose2d(64, 32, 3, stride=2, padding=1, output_padding=1)\n",
    "        self.dec_conv3 = nn.ConvTranspose2d(32, 4, 3, stride=2, padding=1, output_padding=1)\n",
    "\n",
    "    def encode(self, x):\n",
    "        x = F.relu(self.enc_conv1(x))\n",
    "        x = F.relu(self.enc_conv2(x))\n",
    "        x = F.relu(self.enc_conv3(x))\n",
    "        x = x.view(x.size(0), -1)\n",
    "        mu = self.enc_fc_mu(x)\n",
    "        logvar = self.enc_fc_logvar(x)\n",
    "        return mu, logvar\n",
    "\n",
    "    def decode(self, z):\n",
    "        z = F.relu(self.dec_fc(z))\n",
    "        z = z.view(z.size(0), 128, 8, 8)\n",
    "        z = F.relu(self.dec_conv1(z))\n",
    "        z = F.relu(self.dec_conv2(z))\n",
    "        z = self.dec_conv3(z)\n",
    "        return z\n",
    "\n",
    "    def reparameterize(self, mu, logvar):\n",
    "        std = torch.exp(0.5 * logvar)\n",
    "        eps = torch.randn_like(std)\n",
    "        return mu + eps * std\n",
    "\n",
    "    def forward(self, x):\n",
    "        mu, logvar = self.encode(x)\n",
    "        z = self.reparameterize(mu, logvar)\n",
    "        recon_x = self.decode(z)\n",
    "        return recon_x, mu, logvar\n",
    "    "
   ]
  },
  {
   "cell_type": "code",
   "execution_count": null,
   "metadata": {},
   "outputs": [],
   "source": [
    "\n",
    "model = VAE(latent_dim=64)\n",
    "optimizer = optim.Adam(model.parameters(), lr=1e-3)\n",
    "\n",
    "# Define the loss function\n",
    "def vae_loss(recon_x, x, mu, logvar):\n",
    "    recon_loss = F.mse_loss(recon_x, x, reduction='sum')\n",
    "    kl_loss = -0.5 * torch.sum(1 + logvar - mu.pow(2) - logvar.exp())\n",
    "    return recon_loss + kl_loss\n",
    "\n"
   ]
  },
  {
   "cell_type": "code",
   "execution_count": null,
   "metadata": {},
   "outputs": [],
   "source": [
    "\n",
    "# Training loop\n",
    "num_epochs = 100\n",
    "for epoch in range(num_epochs):\n",
    "    model.train()\n",
    "    train_loss = 0\n",
    "    for batch in tqdm(train_loader):\n",
    "        optimizer.zero_grad()\n",
    "        recon_batch, mu, logvar = model(batch)\n",
    "        loss = vae_loss(recon_batch, batch, mu, logvar)\n",
    "        loss.backward()\n",
    "        train_loss += loss.item()\n",
    "        optimizer.step()\n",
    "    print(f'Epoch {epoch}, Loss {train_loss / len(train_loader.dataset)}')\n",
    "    "
   ]
  },
  {
   "cell_type": "code",
   "execution_count": null,
   "metadata": {},
   "outputs": [],
   "source": [
    "# sample from the latent space\n",
    "model.eval()\n",
    "with torch.no_grad():\n",
    "    z = torch.randn(64, 64)\n",
    "    sample = model.decode(z).cpu()\n",
    "    sample = sample.permute(0, 2, 3, 1)\n",
    "\n",
    "fig, ax = plt.subplots(8, 8, figsize=(8, 8))\n",
    "for i in range(8):\n",
    "    for j in range(8):\n",
    "        ax[i, j].imshow(sample[i * 8 + j][:,:,0], origin=\"lower\")\n",
    "        ax[i, j].axis(\"off\")\n",
    "plt.show()"
   ]
  },
  {
   "cell_type": "code",
   "execution_count": null,
   "metadata": {},
   "outputs": [],
   "source": []
  }
 ],
 "metadata": {
  "kernelspec": {
   "display_name": "Python 3",
   "language": "python",
   "name": "python3"
  },
  "language_info": {
   "codemirror_mode": {
    "name": "ipython",
    "version": 3
   },
   "file_extension": ".py",
   "mimetype": "text/x-python",
   "name": "python",
   "nbconvert_exporter": "python",
   "pygments_lexer": "ipython3",
   "version": "3.10.12"
  }
 },
 "nbformat": 4,
 "nbformat_minor": 2
}
