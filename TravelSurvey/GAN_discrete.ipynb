{
 "cells": [
  {
   "cell_type": "markdown",
   "id": "b225c4ef-5064-4b1f-ba23-328a2d891d10",
   "metadata": {},
   "source": [
    "# 2. GAN"
   ]
  },
  {
   "cell_type": "markdown",
   "id": "81796593-ec03-4723-b62f-a2e737e70010",
   "metadata": {},
   "source": [
    "## 1. Training Stage"
   ]
  },
  {
   "cell_type": "code",
   "execution_count": 10,
   "id": "eb0dcda5-9b43-495a-9343-45cc44829faa",
   "metadata": {},
   "outputs": [],
   "source": [
    "import numpy as np\n",
    "import pandas as pd\n",
    "\n",
    "import torch\n",
    "import torch.nn as nn\n",
    "import torch.optim as optim\n",
    "\n",
    "import matplotlib.pyplot as plt\n",
    "from matplotlib.ticker import FormatStrFormatter\n",
    "\n",
    "np.random.seed(0)\n",
    "torch.manual_seed(0)\n",
    "device = torch.device('cuda' if torch.cuda.is_available() else 'cpu')"
   ]
  },
  {
   "cell_type": "code",
   "execution_count": 2,
   "id": "48e9bda3-82cb-4918-bfe1-11b881b4ef63",
   "metadata": {
    "tags": []
   },
   "outputs": [
    {
     "name": "stdout",
     "output_type": "stream",
     "text": [
      "Column 'start_type' has 5 unique categories.\n",
      "Column 'act_num' has 9 unique categories.\n",
      "Column 'mode_num' has 9 unique categories.\n",
      "Column 'end_type' has 5 unique categories.\n"
     ]
    }
   ],
   "source": [
    "hts_df = pd.read_csv('hts_example.csv', index_col=None)\n",
    "    \n",
    "num_categories = {}\n",
    "for column in hts_df.columns:\n",
    "    num_unique = hts_df[column].nunique()\n",
    "    num_categories[column] = num_unique\n",
    "    print(f\"Column '{column}' has {num_unique} unique categories.\")"
   ]
  },
  {
   "cell_type": "code",
   "execution_count": 3,
   "id": "ee04dd7e-e31c-4aa7-974b-6202c9a37940",
   "metadata": {},
   "outputs": [],
   "source": [
    "def dequantize_data(data):\n",
    "    data_continuous = data.copy().astype(float)\n",
    "    for column in data_continuous.columns:\n",
    "        data_continuous[column] += np.random.uniform(0, 1, size=data_continuous.shape[0])\n",
    "    return data_continuous\n",
    "\n",
    "data_continuous = dequantize_data(hts_df)\n",
    "data_tensor = torch.tensor(data_continuous.values, dtype=torch.float32).to(device)"
   ]
  },
  {
   "cell_type": "code",
   "execution_count": 4,
   "id": "339d3a16-96c9-4391-b819-42b90aefc52e",
   "metadata": {},
   "outputs": [],
   "source": [
    "class Generator(nn.Module):\n",
    "    def __init__(self, input_dim, output_dim, hidden_dim):\n",
    "        super(Generator, self).__init__()\n",
    "        self.net = nn.Sequential(\n",
    "            nn.Linear(input_dim, hidden_dim),\n",
    "            nn.ReLU(),\n",
    "            nn.Linear(hidden_dim, hidden_dim),\n",
    "            nn.ReLU(),\n",
    "            nn.Linear(hidden_dim, output_dim)\n",
    "        )\n",
    "    \n",
    "    def forward(self, z):\n",
    "        return self.net(z)\n",
    "\n",
    "class Discriminator(nn.Module):\n",
    "    def __init__(self, input_dim, hidden_dim):\n",
    "        super(Discriminator, self).__init__()\n",
    "        self.net = nn.Sequential(\n",
    "            nn.Linear(input_dim, hidden_dim),\n",
    "            nn.ReLU(),\n",
    "            nn.Linear(hidden_dim, hidden_dim),\n",
    "            nn.ReLU(),\n",
    "            nn.Linear(hidden_dim, 1),\n",
    "            nn.Sigmoid()\n",
    "        )\n",
    "    \n",
    "    def forward(self, x):\n",
    "        return self.net(x)"
   ]
  },
  {
   "cell_type": "code",
   "execution_count": 5,
   "id": "0e4b7618-3ebf-4fcb-8f15-f254e7188842",
   "metadata": {},
   "outputs": [],
   "source": [
    "z_dim = 64\n",
    "hidden_dim = 512\n",
    "\n",
    "input_dim = data_tensor.shape[1]\n",
    "generator = Generator(input_dim=z_dim, output_dim=input_dim, hidden_dim=hidden_dim).to(device)\n",
    "discriminator = Discriminator(input_dim=input_dim, hidden_dim=hidden_dim).to(device)"
   ]
  },
  {
   "cell_type": "code",
   "execution_count": 6,
   "id": "d3bdc8f8-98f4-4e21-93b3-2ac1507b1861",
   "metadata": {},
   "outputs": [
    {
     "name": "stdout",
     "output_type": "stream",
     "text": [
      "Epoch [1/50], D Loss: 0.5278, G Loss: 1.5799\n",
      "Epoch [5/50], D Loss: 1.0038, G Loss: 1.3191\n",
      "Epoch [10/50], D Loss: 1.3379, G Loss: 0.8624\n",
      "Epoch [15/50], D Loss: 1.3640, G Loss: 0.7665\n",
      "Epoch [20/50], D Loss: 1.2143, G Loss: 0.8620\n",
      "Epoch [25/50], D Loss: 1.2131, G Loss: 0.9093\n",
      "Epoch [30/50], D Loss: 1.4016, G Loss: 0.8035\n",
      "Epoch [35/50], D Loss: 1.3331, G Loss: 0.7413\n",
      "Epoch [40/50], D Loss: 1.2244, G Loss: 0.7625\n",
      "Epoch [45/50], D Loss: 1.3812, G Loss: 0.6779\n",
      "Epoch [50/50], D Loss: 1.3384, G Loss: 0.7367\n"
     ]
    }
   ],
   "source": [
    "learning_rate = 1e-4\n",
    "batch_size = 512\n",
    "num_epochs = 50\n",
    "\n",
    "criterion = nn.BCELoss()\n",
    "g_optimizer = optim.Adam(generator.parameters(), lr=learning_rate)\n",
    "d_optimizer = optim.Adam(discriminator.parameters(), lr=learning_rate)\n",
    "\n",
    "dataset = torch.utils.data.TensorDataset(data_tensor)\n",
    "dataloader = torch.utils.data.DataLoader(dataset, batch_size=batch_size, shuffle=True)\n",
    "\n",
    "real_label = 1.0\n",
    "fake_label = 0.0\n",
    "\n",
    "generator.train()\n",
    "discriminator.train()\n",
    "for epoch in range(1, num_epochs + 1):\n",
    "    for batch in dataloader:\n",
    "        real_data = batch[0].to(device)\n",
    "        batch_size = real_data.size(0)\n",
    "\n",
    "        # Train Discriminator\n",
    "        z = torch.randn(batch_size, z_dim).to(device)\n",
    "        fake_data = generator(z)\n",
    "        d_real = discriminator(real_data)\n",
    "        d_fake = discriminator(fake_data)\n",
    "        d_loss_real = criterion(d_real, torch.full((batch_size, 1), real_label, device=device))\n",
    "        d_loss_fake = criterion(d_fake, torch.full((batch_size, 1), fake_label, device=device))\n",
    "        d_loss = d_loss_real + d_loss_fake\n",
    "\n",
    "        d_optimizer.zero_grad()\n",
    "        d_loss.backward()\n",
    "        d_optimizer.step()\n",
    "\n",
    "        # Train Generator\n",
    "        z = torch.randn(batch_size, z_dim).to(device)\n",
    "        fake_data = generator(z)\n",
    "        g_loss = criterion(discriminator(fake_data), torch.full((batch_size, 1), real_label, device=device))\n",
    "\n",
    "        g_optimizer.zero_grad()\n",
    "        g_loss.backward()\n",
    "        g_optimizer.step()\n",
    "\n",
    "    if epoch % 5 == 0 or epoch == 1:\n",
    "        print(f'Epoch [{epoch}/{num_epochs}], D Loss: {d_loss.item():.4f}, G Loss: {g_loss.item():.4f}')"
   ]
  },
  {
   "cell_type": "markdown",
   "id": "a45b0783-688d-4d51-b0ee-35f1aa044b8a",
   "metadata": {},
   "source": [
    "## 2. Testing Stage"
   ]
  },
  {
   "cell_type": "code",
   "execution_count": 7,
   "id": "554f3f5f-b193-44f4-990a-891a255e40af",
   "metadata": {},
   "outputs": [],
   "source": [
    "columns = ['start_type', 'act_num', 'mode_num', 'end_type']\n",
    "num_samples=3000\n",
    "\n",
    "generator.eval()\n",
    "\n",
    "with torch.no_grad():\n",
    "    z = torch.randn(num_samples, z_dim).to(device)\n",
    "    samples = generator(z).cpu().numpy()\n",
    "\n",
    "generated_categories = pd.DataFrame(samples, columns=columns)\n",
    "for column in columns:\n",
    "    max_cat = num_categories[column] - 1\n",
    "    generated_categories[column] = np.floor(generated_categories[column]).astype(int)\n",
    "    generated_categories[column] = np.clip(generated_categories[column], 0, max_cat)"
   ]
  },
  {
   "cell_type": "code",
   "execution_count": 12,
   "id": "e0c98370-9a27-4067-badf-e2829256986b",
   "metadata": {},
   "outputs": [
    {
     "name": "stderr",
     "output_type": "stream",
     "text": [
      "<ipython-input-12-7ef908b509e8>:33: UserWarning: FixedFormatter should only be used together with FixedLocator\n",
      "  ax.set_yticklabels([f'{x:.2f}' for x in ax.get_yticks()], fontsize=12)\n"
     ]
    },
    {
     "data": {
      "image/png": "[encoded data removed]",
      "text/plain": [
       "<Figure size 864x576 with 4 Axes>"
      ]
     },
     "metadata": {
      "needs_background": "light"
     },
     "output_type": "display_data"
    }
   ],
   "source": [
    "plt.rcParams['font.family'] = 'serif'\n",
    "plt.rcParams['font.serif'] = ['Times New Roman'] + plt.rcParams['font.serif']\n",
    "\n",
    "fig, axs = plt.subplots(2, 2, figsize=(12, 8))\n",
    "\n",
    "formatter = FormatStrFormatter('%.2f')\n",
    "\n",
    "fig.tight_layout(h_pad=1, w_pad=3)\n",
    "\n",
    "ylim_list = [0.65, 0.5, 0.3, 0.6]\n",
    "bar_width = 0.35\n",
    "offset = bar_width / 2 \n",
    "\n",
    "for column, ylim, ax in zip(columns, ylim_list, axs.flatten()):\n",
    "    \n",
    "    # Ground truth\n",
    "    unique_hts, counts_hts = np.unique(hts_df[column], return_counts=True)\n",
    "    ax.set_ylim([0, ylim])\n",
    "    positions_hts = np.arange(len(unique_hts))\n",
    "    ax.bar(positions_hts - offset, counts_hts / counts_hts.sum(), \n",
    "           width=bar_width, color='#00008F', edgecolor='black', alpha=0.3, label='Ground Truth')\n",
    "    \n",
    "    # Generated data\n",
    "    unique_gen, counts_gen = np.unique(generated_categories[column], return_counts=True)\n",
    "    positions_gen = np.arange(len(unique_gen))\n",
    "    ax.bar(positions_gen + offset, counts_gen / counts_gen.sum(), \n",
    "           width=bar_width, color='#FF4040', edgecolor='black', alpha=0.3, label='Generated')\n",
    "    \n",
    "    ax.set_xticks([int(x) for x in unique_hts])\n",
    "    ax.set_xticklabels([int(x) for x in unique_hts], fontsize=12) \n",
    "    \n",
    "    ax.yaxis.set_major_formatter(formatter)\n",
    "    ax.set_yticklabels([f'{x:.2f}' for x in ax.get_yticks()], fontsize=12)\n",
    "    \n",
    "    ax.set_ylabel('Proportion', fontsize=13)\n",
    "\n",
    "fig.suptitle('GAN', fontsize=16, y=1.02)\n",
    "\n",
    "fig.legend(['Ground Truth', 'Generated'], loc='upper right', ncol=2, fontsize=12, \n",
    "           bbox_to_anchor=(1, 1.03), bbox_transform=fig.transFigure)\n",
    "\n",
    "plt.savefig(f'gan_discrete.png', bbox_inches='tight', dpi=400)\n",
    "plt.show()\n",
    "plt.close()"
   ]
  }
 ],
 "metadata": {
  "kernelspec": {
   "display_name": "Python 3",
   "language": "python",
   "name": "python3"
  },
  "language_info": {
   "codemirror_mode": {
    "name": "ipython",
    "version": 3
   },
   "file_extension": ".py",
   "mimetype": "text/x-python",
   "name": "python",
   "nbconvert_exporter": "python",
   "pygments_lexer": "ipython3",
   "version": "3.8.10"
  }
 },
 "nbformat": 4,
 "nbformat_minor": 5
}
