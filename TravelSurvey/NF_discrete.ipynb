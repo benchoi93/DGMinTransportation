{
 "cells": [
  {
   "cell_type": "markdown",
   "metadata": {},
   "source": [
    "# Normalizing Flow"
   ]
  },
  {
   "cell_type": "markdown",
   "metadata": {},
   "source": [
    "## 1. Training Stage"
   ]
  },
  {
   "cell_type": "code",
   "execution_count": 12,
   "metadata": {},
   "outputs": [],
   "source": [
    "import numpy as np\n",
    "import pandas as pd\n",
    "\n",
    "import torch\n",
    "import torch.nn as nn\n",
    "import torch.optim as optim\n",
    "\n",
    "import matplotlib.pyplot as plt\n",
    "from matplotlib.ticker import FormatStrFormatter\n",
    "\n",
    "np.random.seed(0)\n",
    "torch.manual_seed(0)\n",
    "device = torch.device('cuda' if torch.cuda.is_available() else 'cpu')"
   ]
  },
  {
   "cell_type": "code",
   "execution_count": 2,
   "metadata": {},
   "outputs": [
    {
     "name": "stdout",
     "output_type": "stream",
     "text": [
      "Column 'start_type' has 5 unique categories.\n",
      "Column 'act_num' has 9 unique categories.\n",
      "Column 'mode_num' has 9 unique categories.\n",
      "Column 'end_type' has 5 unique categories.\n"
     ]
    }
   ],
   "source": [
    "hts_df = pd.read_csv('hts_example.csv', index_col=None)\n",
    "    \n",
    "num_categories = {}\n",
    "for column in hts_df.columns:\n",
    "    num_unique = hts_df[column].nunique()\n",
    "    num_categories[column] = num_unique\n",
    "    print(f\"Column '{column}' has {num_unique} unique categories.\")"
   ]
  },
  {
   "cell_type": "code",
   "execution_count": 3,
   "metadata": {},
   "outputs": [],
   "source": [
    "def dequantize_data(data):\n",
    "    data_continuous = data.copy().astype(float)\n",
    "    for column in data_continuous.columns:\n",
    "        data_continuous[column] += np.random.uniform(0, 1, size=data_continuous.shape[0])\n",
    "    return data_continuous\n",
    "\n",
    "data_continuous = dequantize_data(hts_df)\n",
    "data_tensor = torch.tensor(data_continuous.values, dtype=torch.float32).to(device)"
   ]
  },
  {
   "cell_type": "code",
   "execution_count": 4,
   "metadata": {},
   "outputs": [],
   "source": [
    "class AffineCoupling(nn.Module):\n",
    "    \"\"\"\n",
    "    Affine Coupling Layer as introduced in RealNVP.\n",
    "    Splits the input into two parts and applies an affine transformation to one part conditioned on the other.\n",
    "    \"\"\"\n",
    "    def __init__(self, input_dim, hidden_dim, mask):\n",
    "        super(AffineCoupling, self).__init__()\n",
    "        self.mask = mask\n",
    "        self.scale_net = nn.Sequential(\n",
    "            nn.Linear(input_dim, hidden_dim),\n",
    "            nn.ReLU(),\n",
    "            nn.Linear(hidden_dim, hidden_dim),\n",
    "            nn.ReLU(),\n",
    "            nn.Linear(hidden_dim, input_dim),\n",
    "            nn.Tanh()  # To keep scale bounded\n",
    "        )\n",
    "        self.translate_net = nn.Sequential(\n",
    "            nn.Linear(input_dim, hidden_dim),\n",
    "            nn.ReLU(),\n",
    "            nn.Linear(hidden_dim, hidden_dim),\n",
    "            nn.ReLU(),\n",
    "            nn.Linear(hidden_dim, input_dim)\n",
    "        )\n",
    "    \n",
    "    def forward(self, x):\n",
    "        x_masked = x * self.mask\n",
    "        s = self.scale_net(x_masked) * (1 - self.mask)\n",
    "        t = self.translate_net(x_masked) * (1 - self.mask)\n",
    "        y = x_masked + (1 - self.mask) * (x * torch.exp(s) + t)\n",
    "        log_det_jacobian = torch.sum(s, dim=1)\n",
    "        return y, log_det_jacobian\n",
    "    \n",
    "    def inverse(self, y):\n",
    "        y_masked = y * self.mask\n",
    "        s = self.scale_net(y_masked) * (1 - self.mask)\n",
    "        t = self.translate_net(y_masked) * (1 - self.mask)\n",
    "        x = y_masked + (1 - self.mask) * ((y - t) * torch.exp(-s))\n",
    "        log_det_jacobian = -torch.sum(s, dim=1)\n",
    "        return x, log_det_jacobian\n",
    "\n",
    "class NormalizingFlow(nn.Module):\n",
    "    \"\"\"\n",
    "    A simple Normalizing Flow composed of multiple affine coupling layers and permutations.\n",
    "    \"\"\"\n",
    "    def __init__(self, input_dim, hidden_dim, num_layers):\n",
    "        super(NormalizingFlow, self).__init__()\n",
    "        self.layers = nn.ModuleList()\n",
    "        mask = self.create_mask(input_dim, even=True)\n",
    "        for i in range(num_layers):\n",
    "            self.layers.append(AffineCoupling(input_dim, hidden_dim, mask))\n",
    "            # Alternate the mask for the next layer\n",
    "            mask = 1 - mask\n",
    "        # Base distribution parameters (mean and log_std for a standard normal)\n",
    "        self.base_mean = torch.zeros(input_dim).to(device)\n",
    "        self.base_log_std = torch.zeros(input_dim).to(device)\n",
    "    \n",
    "    def create_mask(self, input_dim, even=True):\n",
    "        \"\"\"\n",
    "        Create a binary mask for coupling layers.\n",
    "        \"\"\"\n",
    "        mask = torch.zeros(input_dim)\n",
    "        mask[::2] = 1 if even else 0\n",
    "        mask[1::2] = 0 if even else 1\n",
    "        return mask.to(device)\n",
    "    \n",
    "    def forward(self, x):\n",
    "        \"\"\"\n",
    "        Forward pass through the flow: transform x to z and compute log_prob.\n",
    "        \"\"\"\n",
    "        log_det_jacobian = torch.zeros(x.size(0)).to(device)\n",
    "        for layer in self.layers:\n",
    "            x, ldj = layer(x)\n",
    "            log_det_jacobian += ldj\n",
    "        # Compute log_prob under base distribution\n",
    "        log_prob_z = self.base_log_prob(x)\n",
    "        log_prob = log_prob_z + log_det_jacobian\n",
    "        return log_prob\n",
    "    \n",
    "    def inverse(self, z):\n",
    "        \"\"\"\n",
    "        Inverse pass through the flow: transform z to x.\n",
    "        \"\"\"\n",
    "        for layer in reversed(self.layers):\n",
    "            z, _ = layer.inverse(z)\n",
    "        return z\n",
    "    \n",
    "    def base_log_prob(self, z):\n",
    "        \"\"\"\n",
    "        Compute log probability under the base distribution (standard normal).\n",
    "        \"\"\"\n",
    "        log_std = self.base_log_std\n",
    "        mean = self.base_mean\n",
    "        return -0.5 * (((z - mean) / torch.exp(log_std)) ** 2 + 2 * log_std + np.log(2 * np.pi)).sum(1)\n"
   ]
  },
  {
   "cell_type": "code",
   "execution_count": 5,
   "metadata": {},
   "outputs": [],
   "source": [
    "hidden_dim = 128\n",
    "num_layers = 6  # Number of affine coupling layers\n",
    "\n",
    "input_dim = data_tensor.shape[1]\n",
    "flow_model = NormalizingFlow(input_dim=input_dim, hidden_dim=hidden_dim, num_layers=num_layers).to(device)"
   ]
  },
  {
   "cell_type": "code",
   "execution_count": 6,
   "metadata": {},
   "outputs": [
    {
     "name": "stdout",
     "output_type": "stream",
     "text": [
      "Epoch [1/20], Loss: 4.9380\n",
      "Epoch [2/20], Loss: 4.1768\n",
      "Epoch [4/20], Loss: 3.9964\n",
      "Epoch [6/20], Loss: 3.9183\n",
      "Epoch [8/20], Loss: 3.8685\n",
      "Epoch [10/20], Loss: 3.8565\n",
      "Epoch [12/20], Loss: 3.8076\n",
      "Epoch [14/20], Loss: 3.7830\n",
      "Epoch [16/20], Loss: 3.7688\n",
      "Epoch [18/20], Loss: 3.7565\n",
      "Epoch [20/20], Loss: 3.7413\n"
     ]
    }
   ],
   "source": [
    "learning_rate=1e-3\n",
    "batch_size=512 \n",
    "epochs=20\n",
    "\n",
    "optimizer = optim.Adam(flow_model.parameters(), lr=learning_rate)\n",
    "\n",
    "dataset = torch.utils.data.TensorDataset(data_tensor)\n",
    "dataloader = torch.utils.data.DataLoader(dataset, batch_size=batch_size, shuffle=True)\n",
    "\n",
    "flow_model.train()\n",
    "for epoch in range(1, epochs + 1):\n",
    "    epoch_loss = 0.0\n",
    "    for batch in dataloader:\n",
    "        x = batch[0].to(device)\n",
    "        optimizer.zero_grad()\n",
    "        log_prob = flow_model(x)\n",
    "        loss = -torch.mean(log_prob)\n",
    "        loss.backward()\n",
    "        optimizer.step()\n",
    "        epoch_loss += loss.item() * x.size(0)\n",
    "    epoch_loss /= len(dataloader.dataset)\n",
    "    if epoch % 2 == 0 or epoch == 1:\n",
    "        print(f\"Epoch [{epoch}/{epochs}], Loss: {epoch_loss:.4f}\")"
   ]
  },
  {
   "cell_type": "markdown",
   "metadata": {},
   "source": [
    "## 2. Testing Stage"
   ]
  },
  {
   "cell_type": "code",
   "execution_count": 7,
   "metadata": {},
   "outputs": [],
   "source": [
    "columns = ['start_type', 'act_num', 'mode_num', 'end_type']\n",
    "num_samples=3000\n",
    "\n",
    "flow_model.eval()\n",
    "\n",
    "with torch.no_grad():\n",
    "    z = torch.randn(num_samples, len(columns)).to(device)\n",
    "    samples = flow_model.inverse(z).cpu().numpy()\n",
    "    \n",
    "generated_categories = pd.DataFrame(samples, columns=columns)\n",
    "for column in columns:\n",
    "    max_cat = num_categories[column] - 1\n",
    "    generated_categories[column] = np.floor(generated_categories[column]).astype(int)\n",
    "    generated_categories[column] = np.clip(generated_categories[column], 0, max_cat)"
   ]
  },
  {
   "cell_type": "code",
   "execution_count": 14,
   "metadata": {},
   "outputs": [
    {
     "name": "stderr",
     "output_type": "stream",
     "text": [
      "<ipython-input-14-3da845af3a87>:33: UserWarning: FixedFormatter should only be used together with FixedLocator\n",
      "  ax.set_yticklabels([f'{x:.2f}' for x in ax.get_yticks()], fontsize=12)\n"
     ]
    },
    {
     "data": {
      "image/png": "[encoded data removed]",
      "text/plain": [
       "<Figure size 864x576 with 4 Axes>"
      ]
     },
     "metadata": {
      "needs_background": "light"
     },
     "output_type": "display_data"
    }
   ],
   "source": [
    "plt.rcParams['font.family'] = 'serif'\n",
    "plt.rcParams['font.serif'] = ['Times New Roman'] + plt.rcParams['font.serif']\n",
    "\n",
    "fig, axs = plt.subplots(2, 2, figsize=(12, 8))\n",
    "\n",
    "formatter = FormatStrFormatter('%.2f')\n",
    "\n",
    "fig.tight_layout(h_pad=1, w_pad=3)\n",
    "\n",
    "ylim_list = [0.65, 0.5, 0.3, 0.6]\n",
    "bar_width = 0.35\n",
    "offset = bar_width / 2 \n",
    "\n",
    "for column, ylim, ax in zip(columns, ylim_list, axs.flatten()):\n",
    "    \n",
    "    # Ground truth\n",
    "    unique_hts, counts_hts = np.unique(hts_df[column], return_counts=True)\n",
    "    ax.set_ylim([0, ylim])\n",
    "    positions_hts = np.arange(len(unique_hts))\n",
    "    ax.bar(positions_hts - offset, counts_hts / counts_hts.sum(), \n",
    "           width=bar_width, color='#00008F', edgecolor='black', alpha=0.3, label='Ground Truth')\n",
    "    \n",
    "    # Generated data\n",
    "    unique_gen, counts_gen = np.unique(generated_categories[column], return_counts=True)\n",
    "    positions_gen = np.arange(len(unique_gen))\n",
    "    ax.bar(positions_gen + offset, counts_gen / counts_gen.sum(), \n",
    "           width=bar_width, color='#FF4040', edgecolor='black', alpha=0.3, label='Generated')\n",
    "    \n",
    "    ax.set_xticks([int(x) for x in unique_hts])\n",
    "    ax.set_xticklabels([int(x) for x in unique_hts], fontsize=12) \n",
    "    \n",
    "    ax.yaxis.set_major_formatter(formatter)\n",
    "    ax.set_yticklabels([f'{x:.2f}' for x in ax.get_yticks()], fontsize=12)\n",
    "    \n",
    "    ax.set_ylabel('Proportion', fontsize=13)\n",
    "\n",
    "fig.suptitle('Normalizing Flow', fontsize=16, y=1.02)\n",
    "\n",
    "fig.legend(['Ground Truth', 'Generated'], loc='upper right', ncol=2, fontsize=12, \n",
    "           bbox_to_anchor=(1, 1.03), bbox_transform=fig.transFigure)\n",
    "\n",
    "plt.savefig(f'nf_discrete.png', bbox_inches='tight', dpi=400)\n",
    "plt.show()\n",
    "plt.close()"
   ]
  }
 ],
 "metadata": {
  "kernelspec": {
   "display_name": "Python 3",
   "language": "python",
   "name": "python3"
  },
  "language_info": {
   "codemirror_mode": {
    "name": "ipython",
    "version": 3
   },
   "file_extension": ".py",
   "mimetype": "text/x-python",
   "name": "python",
   "nbconvert_exporter": "python",
   "pygments_lexer": "ipython3",
   "version": "3.8.10"
  }
 },
 "nbformat": 4,
 "nbformat_minor": 4
}
