{
 "cells": [
  {
   "cell_type": "code",
   "execution_count": 1,
   "id": "d4ff369a-7a33-4f45-a5d4-5e3e6560bf56",
   "metadata": {},
   "outputs": [],
   "source": [
    "import numpy as np\n",
    "import pandas as pd\n",
    "\n",
    "import torch\n",
    "import torch.nn as nn\n",
    "import torch.optim as optim\n",
    "import torch.nn.functional as F\n",
    "from torch.utils.data import DataLoader\n",
    "\n",
    "import matplotlib.pyplot as plt\n",
    "from sklearn.preprocessing import OneHotEncoder"
   ]
  },
  {
   "cell_type": "code",
   "execution_count": 2,
   "id": "b09734c9-867a-4cfc-a6f3-d865f57d4d5d",
   "metadata": {},
   "outputs": [],
   "source": [
    "np.random.seed(0)\n",
    "\n",
    "data = pd.read_csv('state_action.csv', index_col=None)\n",
    "data_size = 200000\n",
    "selected_idx = np.random.randint(0, len(data)-1, size=data_size)\n",
    "data_select = data[data.index.isin(selected_idx)][['start_type', 'act_num', 'mode_num', 'end_type']]"
   ]
  },
  {
   "cell_type": "code",
   "execution_count": 5,
   "id": "32b8b6ad-474b-48a3-b589-ac39a090fa45",
   "metadata": {},
   "outputs": [
    {
     "name": "stdout",
     "output_type": "stream",
     "text": [
      "start_type\n",
      "5\n",
      "act_num\n",
      "9\n",
      "mode_num\n",
      "9\n",
      "end_type\n",
      "5\n"
     ]
    }
   ],
   "source": [
    "latent_dims = []\n",
    "input_dim = 0\n",
    "hidden_dim = 512\n",
    "N = 10\n",
    "for column in data_select.columns:\n",
    "    print(f'Attribute Type = {column}')\n",
    "    print(f'Num of Categories in Attribute = {data_select[column].nunique()}')\n",
    "    latent_dims.append([N, data_select[column].nunique()])\n",
    "    input_dim += data_select[column].nunique()"
   ]
  },
  {
   "cell_type": "code",
   "execution_count": 6,
   "id": "8f077bef-4adf-4309-987a-b16d1a382f22",
   "metadata": {},
   "outputs": [],
   "source": [
    "encoder = OneHotEncoder(sparse=False)\n",
    "one_hot_data = encoder.fit_transform(data_select.values)\n",
    "device = torch.device(\"cuda\" if torch.cuda.is_available() else \"cpu\")\n",
    "data_loader = DataLoader(one_hot_data, batch_size=250, shuffle=True)"
   ]
  },
  {
   "cell_type": "code",
   "execution_count": 7,
   "id": "2e87cd95-e4f2-4dff-9274-d189741b236d",
   "metadata": {},
   "outputs": [],
   "source": [
    "class Encoder(nn.Module):\n",
    "    def __init__(self, input_dim, hidden_dim, latent_dims):\n",
    "        super().__init__()\n",
    "        self.latent_dims = latent_dims\n",
    "        self.fc1 = nn.Linear(input_dim, hidden_dim)\n",
    "        self.fc2 = nn.Linear(hidden_dim, hidden_dim)\n",
    "        self.fc3 = nn.Linear(hidden_dim, sum(N * K for N, K in latent_dims))\n",
    "\n",
    "    def forward(self, x):\n",
    "        h = F.relu(self.fc1(x))\n",
    "        h = F.relu(self.fc2(h))\n",
    "        logits = self.fc3(h)\n",
    "        return logits\n",
    "\n",
    "class Decoder(nn.Module):\n",
    "    def __init__(self, latent_dim, hidden_dim, output_dim):\n",
    "        super().__init__()\n",
    "        self.fc1 = nn.Linear(latent_dim, hidden_dim)\n",
    "        self.fc2 = nn.Linear(hidden_dim, hidden_dim)        \n",
    "        self.fc3 = nn.Linear(hidden_dim, output_dim)\n",
    "\n",
    "    def forward(self, z):\n",
    "        h = F.relu(self.fc1(z))\n",
    "        h = F.relu(self.fc2(h))\n",
    "        return self.fc3(h)\n",
    "\n",
    "class CategoricalVAE(nn.Module):\n",
    "    def __init__(self, input_dim, hidden_dim, latent_dims):\n",
    "        super().__init__()\n",
    "        self.encoder = Encoder(input_dim, hidden_dim, latent_dims)\n",
    "        self.decoder = Decoder(sum(N * K for N, K in latent_dims), hidden_dim, input_dim)\n",
    "        self.latent_dims = latent_dims\n",
    "\n",
    "    def forward(self, x, temperature=1.0):\n",
    "        logits = self.encoder(x)\n",
    "        z_list = []\n",
    "        start = 0\n",
    "        for N, K in self.latent_dims:\n",
    "            end = start + N * K\n",
    "            z_list.append(gumbel_softmax(logits[:, start:end].reshape(-1, N, K), temperature, batch=True))\n",
    "            start = end\n",
    "        \n",
    "        z = torch.cat([z.reshape(z.size(0), -1) for z in z_list], dim=1) \n",
    "        return logits, self.decoder(z)\n",
    "\n",
    "def loss_function(recon_x, x, logits, latent_dims):\n",
    "    BCE = 0\n",
    "    start_x = 0\n",
    "    start_logits = 0\n",
    "    for i, (N, K) in enumerate(latent_dims):\n",
    "        end_x = start_x + K\n",
    "        end_logits = start_logits + N * K\n",
    "        BCE += F.cross_entropy(recon_x[:, start_x:end_x], torch.argmax(x[:, start_x:end_x], dim=1).to(recon_x.device), reduction='sum')\n",
    "        start_x = end_x\n",
    "        start_logits = end_logits\n",
    "        \n",
    "    KLD = categorical_kl_divergence(logits.view(logits.shape[0], -1, latent_dims[0][1])).sum()     \n",
    "    return BCE + KLD"
   ]
  },
  {
   "cell_type": "code",
   "execution_count": 8,
   "id": "8c4dfd8e-eba7-4881-8826-c26a35c660e8",
   "metadata": {},
   "outputs": [],
   "source": [
    "def gumbel_distribution_sample(shape: torch.Size, eps=1e-20) -> torch.Tensor:\n",
    "    \"\"\"Samples from the Gumbel distribution given a tensor shape and value of epsilon.\"\"\"\n",
    "    U = torch.rand(shape, device=shape[0].device if isinstance(shape[0], torch.Tensor) else 'cpu')\n",
    "    return -torch.log(-torch.log(U + eps) + eps)\n",
    "\n",
    "def gumbel_softmax_distribution_sample(logits: torch.Tensor, temperature: float) -> torch.Tensor:\n",
    "    \"\"\"Adds Gumbel noise to `logits` and applies softmax along the last dimension.\"\"\"\n",
    "    y = logits + torch.tensor(gumbel_distribution_sample(logits.shape), dtype=torch.float32).to(device)\n",
    "    return F.softmax(y / temperature, dim=-1)\n",
    "\n",
    "def gumbel_softmax(logits: torch.Tensor, temperature: float, batch=False) -> torch.Tensor:\n",
    "\n",
    "    input_shape = logits.shape\n",
    "    if batch:\n",
    "        assert len(input_shape) == 3, \"Batch input should be 3D: [batch_size, n_distributions, n_classes]\"\n",
    "        b, n, k = input_shape\n",
    "        logits = logits.reshape(b*n, k)\n",
    "    else:\n",
    "        assert len(input_shape) == 2, \"Non-batch input should be 2D: [n_distributions, n_classes]\"\n",
    "    \n",
    "    y = gumbel_softmax_distribution_sample(logits, temperature)    \n",
    "    return y.reshape(input_shape)\n",
    "\n",
    "def categorical_kl_divergence(logits: torch.Tensor) -> torch.Tensor:\n",
    "\n",
    "    B, N, K = logits.shape\n",
    "    \n",
    "    # Compute log probabilities\n",
    "    log_probs = F.log_softmax(logits, dim=-1)\n",
    "    \n",
    "    # Compute probabilities\n",
    "    probs = torch.exp(log_probs)\n",
    "    \n",
    "    # Uniform prior\n",
    "    uniform_prior = torch.full_like(probs, 1.0 / K)\n",
    "    \n",
    "    # KL divergence\n",
    "    kl_div = torch.sum(probs * (log_probs - torch.log(uniform_prior)), dim=-1)\n",
    "    \n",
    "    return kl_div"
   ]
  },
  {
   "cell_type": "code",
   "execution_count": 28,
   "id": "4a874cce-a188-4d5e-9dd7-0d2ebbb55cf8",
   "metadata": {},
   "outputs": [],
   "source": [
    "learning_rate = 0.001\n",
    "torch.manual_seed(0)\n",
    "model = CategoricalVAE(input_dim, hidden_dim, latent_dims).to(device)\n",
    "optimizer = optim.Adam(model.parameters(), lr=learning_rate)"
   ]
  },
  {
   "cell_type": "code",
   "execution_count": 29,
   "id": "d14fc8bb-6531-4ff0-b60a-c74bc87994bc",
   "metadata": {},
   "outputs": [
    {
     "name": "stderr",
     "output_type": "stream",
     "text": [
      "<ipython-input-29-977c71612969>:14: UserWarning: To copy construct from a tensor, it is recommended to use sourceTensor.clone().detach() or sourceTensor.clone().detach().requires_grad_(True), rather than torch.tensor(sourceTensor).\n",
      "  logits, x_recon = model(torch.tensor(x, dtype=torch.float32).to(device), torch.tensor(temperature, dtype=torch.float32).to(device))\n",
      "<ipython-input-8-4a161fe48ee4>:8: UserWarning: To copy construct from a tensor, it is recommended to use sourceTensor.clone().detach() or sourceTensor.clone().detach().requires_grad_(True), rather than torch.tensor(sourceTensor).\n",
      "  y = logits + torch.tensor(gumbel_distribution_sample(logits.shape), dtype=torch.float32).to(device)\n"
     ]
    },
    {
     "name": "stdout",
     "output_type": "stream",
     "text": [
      "Epoch [1/30], Average Loss: 405.9071, Temperature: 1.0000\n",
      "Epoch [2/30], Average Loss: 47.2853, Temperature: 1.0000\n",
      "Epoch [3/30], Average Loss: 17.9080, Temperature: 0.9999\n",
      "Epoch [4/30], Average Loss: 14.6508, Temperature: 0.9999\n",
      "Epoch [5/30], Average Loss: 11.1371, Temperature: 0.9999\n",
      "Epoch [6/30], Average Loss: 9.9463, Temperature: 0.9999\n",
      "Epoch [7/30], Average Loss: 7.9874, Temperature: 0.9998\n",
      "Epoch [8/30], Average Loss: 8.6640, Temperature: 0.9998\n",
      "Epoch [9/30], Average Loss: 6.1835, Temperature: 0.9998\n",
      "Epoch [10/30], Average Loss: 6.0800, Temperature: 0.9997\n",
      "Epoch [11/30], Average Loss: 5.8461, Temperature: 0.9997\n",
      "Epoch [12/30], Average Loss: 6.0354, Temperature: 0.9997\n",
      "Epoch [13/30], Average Loss: 4.7079, Temperature: 0.9996\n",
      "Epoch [14/30], Average Loss: 5.3055, Temperature: 0.9996\n",
      "Epoch [15/30], Average Loss: 5.5901, Temperature: 0.9996\n",
      "Epoch [16/30], Average Loss: 3.8783, Temperature: 0.9996\n",
      "Epoch [17/30], Average Loss: 4.2914, Temperature: 0.9995\n",
      "Epoch [18/30], Average Loss: 4.0441, Temperature: 0.9995\n",
      "Epoch [19/30], Average Loss: 4.0302, Temperature: 0.9995\n",
      "Epoch [20/30], Average Loss: 4.0154, Temperature: 0.9994\n",
      "Epoch [21/30], Average Loss: 2.7157, Temperature: 0.9994\n",
      "Epoch [22/30], Average Loss: 4.1857, Temperature: 0.9994\n",
      "Epoch [23/30], Average Loss: 3.4792, Temperature: 0.9993\n",
      "Epoch [24/30], Average Loss: 3.3411, Temperature: 0.9993\n",
      "Epoch [25/30], Average Loss: 3.0625, Temperature: 0.9993\n",
      "Epoch [26/30], Average Loss: 3.4952, Temperature: 0.9993\n",
      "Epoch [27/30], Average Loss: 2.6818, Temperature: 0.9992\n",
      "Epoch [28/30], Average Loss: 2.5754, Temperature: 0.9992\n",
      "Epoch [29/30], Average Loss: 3.3411, Temperature: 0.9992\n",
      "Epoch [30/30], Average Loss: 2.6554, Temperature: 0.9991\n",
      "Training completed!\n"
     ]
    }
   ],
   "source": [
    "num_epochs = 30\n",
    "initial_temperature = 1.0\n",
    "min_temperature = 0.5\n",
    "anneal_rate = 0.00003\n",
    "\n",
    "model.train()\n",
    "for epoch in range(num_epochs):\n",
    "    total_loss = 0\n",
    "    for batch in data_loader:\n",
    "        x = batch\n",
    "        \n",
    "        # Forward pass\n",
    "        temperature = max(initial_temperature * np.exp(-anneal_rate * epoch), min_temperature)\n",
    "        logits, x_recon = model(torch.tensor(x, dtype=torch.float32).to(device), torch.tensor(temperature, dtype=torch.float32).to(device))\n",
    "        \n",
    "        # Compute loss\n",
    "        loss = loss_function(x_recon, x, logits, latent_dims)\n",
    "        \n",
    "        # Backward pass and optimize\n",
    "        optimizer.zero_grad()\n",
    "        loss.backward()\n",
    "        optimizer.step()\n",
    "        \n",
    "        total_loss += loss.item()\n",
    "    \n",
    "    # Print epoch results\n",
    "    avg_loss = total_loss / len(data_loader)\n",
    "    print(f\"Epoch [{epoch+1}/{num_epochs}], Average Loss: {avg_loss:.4f}, Temperature: {temperature:.4f}\")\n",
    "\n",
    "    # Optional: Save the model periodically\n",
    "    if (epoch + 1) % 10 == 0:\n",
    "        torch.save(model.state_dict(), f\"categorical_vae_epoch_{epoch+1}.pth\")\n",
    "\n",
    "print(\"Training completed!\")"
   ]
  },
  {
   "cell_type": "code",
   "execution_count": 30,
   "id": "2ac3e6cc-0cbd-424d-8fd1-852ff2dd67da",
   "metadata": {},
   "outputs": [],
   "source": [
    "def sample_latent(batch_size, latent_dims, device):\n",
    "    z_samples = []\n",
    "    for N, K in latent_dims:\n",
    "        # Sample from a uniform categorical distribution\n",
    "        z = torch.randint(0, K, (batch_size, N), device=device)\n",
    "        # Convert to one-hot\n",
    "        z_one_hot = F.one_hot(z, num_classes=K).float()\n",
    "        z_samples.append(z_one_hot.view(batch_size, -1))\n",
    "    return torch.cat(z_samples, dim=1)\n",
    "\n",
    "def generate_samples(model, num_samples, latent_dims, device):\n",
    "    model.eval() \n",
    "    with torch.no_grad():\n",
    "        # Sample from the latent space\n",
    "        z = sample_latent(num_samples, latent_dims, device)\n",
    "        samples = model.decoder(z)\n",
    "        \n",
    "    return samples\n",
    "\n",
    "num_samples = 3000  # Number of samples to generate\n",
    "samples = generate_samples(model, num_samples, latent_dims, device)\n",
    "\n",
    "samples = samples.cpu().numpy()  # Move to CPU and convert to numpy array"
   ]
  },
  {
   "cell_type": "code",
   "execution_count": 39,
   "id": "9401d6b5-bd67-4ade-913c-fd19a45f4e37",
   "metadata": {},
   "outputs": [
    {
     "data": {
      "image/png": "[encoded data removed]",
      "text/plain": [
       "<Figure size 432x252 with 1 Axes>"
      ]
     },
     "metadata": {
      "needs_background": "light"
     },
     "output_type": "display_data"
    },
    {
     "data": {
      "image/png": "[encoded data removed]",
      "text/plain": [
       "<Figure size 432x252 with 1 Axes>"
      ]
     },
     "metadata": {
      "needs_background": "light"
     },
     "output_type": "display_data"
    },
    {
     "data": {
      "image/png": "[encoded data removed]",
      "text/plain": [
       "<Figure size 432x252 with 1 Axes>"
      ]
     },
     "metadata": {
      "needs_background": "light"
     },
     "output_type": "display_data"
    },
    {
     "data": {
      "image/png": "[encoded data removed]",
      "text/plain": [
       "<Figure size 432x252 with 1 Axes>"
      ]
     },
     "metadata": {
      "needs_background": "light"
     },
     "output_type": "display_data"
    }
   ],
   "source": [
    "# for sample in samples:\n",
    "start = 0\n",
    "\n",
    "for (N, K), name in zip(latent_dims, ['start_type', 'act_num', 'mode_num', 'end_type']):\n",
    "    end = start + K\n",
    "    types = np.argmax(samples[:, start:end], axis=1)\n",
    "    unique, counts = np.unique(types, return_counts=True)\n",
    "    plt.figure(figsize=(6,3.5))\n",
    "    plt.bar(unique, counts/counts.sum())\n",
    "    plt.title(name)\n",
    "    plt.xticks(np.arange(K))\n",
    "    plt.grid(axis = 'y')\n",
    "    plt.savefig(f'{name}_vae.png', dpi=300)\n",
    "    plt.show()\n",
    "    plt.close()\n",
    "    start = end     "
   ]
  },
  {
   "cell_type": "code",
   "execution_count": 40,
   "id": "f4db3e77-5c1a-4d32-9fe4-b3ff3122f5fe",
   "metadata": {},
   "outputs": [
    {
     "data": {
      "image/png": "[encoded data removed]",
      "text/plain": [
       "<Figure size 432x252 with 1 Axes>"
      ]
     },
     "metadata": {
      "needs_background": "light"
     },
     "output_type": "display_data"
    },
    {
     "data": {
      "image/png": "[encoded data removed]",
      "text/plain": [
       "<Figure size 432x252 with 1 Axes>"
      ]
     },
     "metadata": {
      "needs_background": "light"
     },
     "output_type": "display_data"
    },
    {
     "data": {
      "image/png": "[encoded data removed]",
      "text/plain": [
       "<Figure size 432x252 with 1 Axes>"
      ]
     },
     "metadata": {
      "needs_background": "light"
     },
     "output_type": "display_data"
    },
    {
     "data": {
      "image/png": "[encoded data removed]",
      "text/plain": [
       "<Figure size 432x252 with 1 Axes>"
      ]
     },
     "metadata": {
      "needs_background": "light"
     },
     "output_type": "display_data"
    }
   ],
   "source": [
    "for (N, K), name in zip(latent_dims, ['start_type', 'act_num', 'mode_num', 'end_type']):\n",
    "    end = start + K\n",
    "    unique, counts = np.unique(data_select[name].values, return_counts=True)\n",
    "    plt.figure(figsize=(6,3.5))\n",
    "    plt.bar(unique, counts/counts.sum())\n",
    "    plt.title(name)\n",
    "    plt.xticks(np.arange(K))\n",
    "    plt.grid(axis = 'y')\n",
    "    plt.savefig(f'{name}_real.png', dpi=300)\n",
    "    plt.show()\n",
    "    plt.close()\n",
    "    start = end"
   ]
  }
 ],
 "metadata": {
  "kernelspec": {
   "display_name": "Python 3",
   "language": "python",
   "name": "python3"
  },
  "language_info": {
   "codemirror_mode": {
    "name": "ipython",
    "version": 3
   },
   "file_extension": ".py",
   "mimetype": "text/x-python",
   "name": "python",
   "nbconvert_exporter": "python",
   "pygments_lexer": "ipython3",
   "version": "3.8.10"
  }
 },
 "nbformat": 4,
 "nbformat_minor": 5
}
