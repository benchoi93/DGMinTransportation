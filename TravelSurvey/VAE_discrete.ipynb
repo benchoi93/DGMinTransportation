{
 "cells": [
  {
   "cell_type": "markdown",
   "id": "1926b9c0-81e1-40e3-87ba-9727c70ce329",
   "metadata": {},
   "source": [
    "# VAE"
   ]
  },
  {
   "cell_type": "markdown",
   "id": "c52c0a48-80d2-4975-8a03-52c61dce397e",
   "metadata": {},
   "source": [
    "## 1. Training Stage"
   ]
  },
  {
   "cell_type": "code",
   "execution_count": 9,
   "id": "ad0e5eff-5042-4321-90a0-0112f4e48760",
   "metadata": {},
   "outputs": [],
   "source": [
    "import numpy as np\n",
    "import pandas as pd\n",
    "\n",
    "import torch\n",
    "import torch.nn as nn\n",
    "import torch.optim as optim\n",
    "\n",
    "import matplotlib.pyplot as plt\n",
    "from matplotlib.ticker import FormatStrFormatter\n",
    "\n",
    "np.random.seed(0)\n",
    "torch.manual_seed(0)\n",
    "device = torch.device('cuda' if torch.cuda.is_available() else 'cpu')"
   ]
  },
  {
   "cell_type": "code",
   "execution_count": 2,
   "id": "2f200353-7678-4e7f-93cc-22133217537e",
   "metadata": {},
   "outputs": [
    {
     "name": "stdout",
     "output_type": "stream",
     "text": [
      "Column 'start_type' has 5 unique categories.\n",
      "Column 'act_num' has 9 unique categories.\n",
      "Column 'mode_num' has 9 unique categories.\n",
      "Column 'end_type' has 5 unique categories.\n"
     ]
    }
   ],
   "source": [
    "hts_df = pd.read_csv('hts_example.csv', index_col=None)\n",
    "    \n",
    "num_categories = {}\n",
    "for column in hts_df.columns:\n",
    "    num_unique = hts_df[column].nunique()\n",
    "    num_categories[column] = num_unique\n",
    "    print(f\"Column '{column}' has {num_unique} unique categories.\")"
   ]
  },
  {
   "cell_type": "code",
   "execution_count": 3,
   "id": "00afab1b-bb38-4bc4-a371-ddb851cad24a",
   "metadata": {},
   "outputs": [],
   "source": [
    "def dequantize_data(data):\n",
    "    data_continuous = data.copy().astype(float)\n",
    "    for column in data_continuous.columns:\n",
    "        data_continuous[column] += np.random.uniform(0, 1, size=data_continuous.shape[0])\n",
    "    return data_continuous\n",
    "\n",
    "data_continuous = dequantize_data(hts_df)\n",
    "data_tensor = torch.tensor(data_continuous.values, dtype=torch.float32).to(device)"
   ]
  },
  {
   "cell_type": "code",
   "execution_count": 4,
   "id": "02aa0daa-d3f8-474a-a834-d02fcd82e201",
   "metadata": {},
   "outputs": [],
   "source": [
    "class VAE(nn.Module):\n",
    "    def __init__(self, input_dim, hidden_dim, z_dim):\n",
    "        super(VAE, self).__init__()\n",
    "        # Encoder\n",
    "        self.encoder = nn.Sequential(\n",
    "            nn.Linear(input_dim, hidden_dim),\n",
    "            nn.ReLU(),\n",
    "            nn.Linear(hidden_dim, hidden_dim),\n",
    "            nn.ReLU()\n",
    "        )\n",
    "        self.mu_layer = nn.Linear(hidden_dim, z_dim)\n",
    "        self.log_var_layer = nn.Linear(hidden_dim, z_dim)\n",
    "\n",
    "        # Decoder\n",
    "        self.decoder = nn.Sequential(\n",
    "            nn.Linear(z_dim, hidden_dim),\n",
    "            nn.ReLU(),\n",
    "            nn.Linear(hidden_dim, hidden_dim),\n",
    "            nn.ReLU(),\n",
    "            nn.Linear(hidden_dim, input_dim)\n",
    "        )\n",
    "\n",
    "    def encode(self, x):\n",
    "        h = self.encoder(x)\n",
    "        mu = self.mu_layer(h)\n",
    "        log_var = self.log_var_layer(h)\n",
    "        return mu, log_var\n",
    "\n",
    "    def reparameterize(self, mu, log_var):\n",
    "        std = torch.exp(0.5 * log_var)\n",
    "        eps = torch.randn_like(std)\n",
    "        return mu + eps * std\n",
    "\n",
    "    def decode(self, z):\n",
    "        return self.decoder(z)\n",
    "\n",
    "    def forward(self, x):\n",
    "        mu, log_var = self.encode(x)\n",
    "        z = self.reparameterize(mu, log_var)\n",
    "        x_reconstructed = self.decode(z)\n",
    "        return x_reconstructed, mu, log_var"
   ]
  },
  {
   "cell_type": "code",
   "execution_count": 5,
   "id": "018ac284-9500-4e92-ae5b-b6d9ae1842a7",
   "metadata": {},
   "outputs": [],
   "source": [
    "z_dim = 16\n",
    "hidden_dim = 128\n",
    "\n",
    "input_dim = data_tensor.shape[1]\n",
    "vae_model = VAE(input_dim=input_dim, hidden_dim=hidden_dim, z_dim=z_dim).to(device)"
   ]
  },
  {
   "cell_type": "code",
   "execution_count": 6,
   "id": "ca901e05-5da8-4652-9e67-5791a22f7ffb",
   "metadata": {},
   "outputs": [
    {
     "name": "stdout",
     "output_type": "stream",
     "text": [
      "Epoch [1/100], Loss: 1253611.0972\n"
     ]
    }
   ],
   "source": [
    "learning_rate=1e-3\n",
    "batch_size=512\n",
    "num_epochs=100\n",
    "\n",
    "optimizer = optim.Adam(vae_model.parameters(), lr=learning_rate)\n",
    "\n",
    "dataset = torch.utils.data.TensorDataset(data_tensor)\n",
    "dataloader = torch.utils.data.DataLoader(dataset, batch_size=batch_size, shuffle=True)\n",
    "\n",
    "vae_model.train()\n",
    "for epoch in range(1, num_epochs + 1):\n",
    "    epoch_loss = 0.0\n",
    "    for batch in dataloader:\n",
    "        x = batch[0].to(device)\n",
    "        optimizer.zero_grad()\n",
    "        x_reconstructed, mu, log_var = vae_model(x)\n",
    "\n",
    "        # Reconstruction loss (MSE)\n",
    "        recon_loss = nn.functional.mse_loss(x_reconstructed, x, reduction='sum')\n",
    "\n",
    "        # KL divergence\n",
    "        kl_loss = -0.5 * torch.sum(1 + log_var - mu.pow(2) - log_var.exp())\n",
    "\n",
    "        # Total loss\n",
    "        loss = recon_loss + kl_loss\n",
    "        loss.backward()\n",
    "        optimizer.step()\n",
    "\n",
    "        epoch_loss += loss.item()\n",
    "\n",
    "    if epoch % 1 == 10 or epoch == 1:\n",
    "        print(f'Epoch [{epoch}/{num_epochs}], Loss: {epoch_loss:.4f}')"
   ]
  },
  {
   "cell_type": "markdown",
   "id": "b517f7e1-4a9d-460d-8c1a-e5849aa962b5",
   "metadata": {},
   "source": [
    "## 2. Testing Stage"
   ]
  },
  {
   "cell_type": "code",
   "execution_count": 7,
   "id": "9a7e453b-c0cf-4094-801a-fcf75d39f439",
   "metadata": {},
   "outputs": [],
   "source": [
    "columns = ['start_type', 'act_num', 'mode_num', 'end_type']\n",
    "num_samples=3000\n",
    "\n",
    "vae_model.eval()\n",
    "\n",
    "with torch.no_grad():\n",
    "    z = torch.randn(num_samples, z_dim).to(device)\n",
    "    samples = vae_model.decode(z).cpu().numpy()\n",
    "\n",
    "generated_categories = pd.DataFrame(samples, columns=columns)\n",
    "for column in columns:\n",
    "    max_cat = num_categories[column] - 1\n",
    "    generated_categories[column] = np.floor(generated_categories[column]).astype(int)\n",
    "    generated_categories[column] = np.clip(generated_categories[column], 0, max_cat)"
   ]
  },
  {
   "cell_type": "code",
   "execution_count": 11,
   "id": "7ad11009-9ab5-4380-9d58-0e86a0d695c7",
   "metadata": {},
   "outputs": [
    {
     "name": "stderr",
     "output_type": "stream",
     "text": [
      "<ipython-input-11-04ad0318ca58>:33: UserWarning: FixedFormatter should only be used together with FixedLocator\n",
      "  ax.set_yticklabels([f'{x:.2f}' for x in ax.get_yticks()], fontsize=12)\n"
     ]
    },
    {
     "data": {
      "image/png": "[encoded data removed]",
      "text/plain": [
       "<Figure size 864x576 with 4 Axes>"
      ]
     },
     "metadata": {
      "needs_background": "light"
     },
     "output_type": "display_data"
    }
   ],
   "source": [
    "plt.rcParams['font.family'] = 'serif'\n",
    "plt.rcParams['font.serif'] = ['Times New Roman'] + plt.rcParams['font.serif']\n",
    "\n",
    "fig, axs = plt.subplots(2, 2, figsize=(12, 8))\n",
    "\n",
    "formatter = FormatStrFormatter('%.2f')\n",
    "\n",
    "fig.tight_layout(h_pad=1, w_pad=3)\n",
    "\n",
    "ylim_list = [0.65, 0.5, 0.3, 0.6]\n",
    "bar_width = 0.35\n",
    "offset = bar_width / 2 \n",
    "\n",
    "for column, ylim, ax in zip(columns, ylim_list, axs.flatten()):\n",
    "    \n",
    "    # Ground truth\n",
    "    unique_hts, counts_hts = np.unique(hts_df[column], return_counts=True)\n",
    "    ax.set_ylim([0, ylim])\n",
    "    positions_hts = np.arange(len(unique_hts))\n",
    "    ax.bar(positions_hts - offset, counts_hts / counts_hts.sum(), \n",
    "           width=bar_width, color='#00008F', edgecolor='black', alpha=0.3, label='Ground Truth')\n",
    "    \n",
    "    # Generated data\n",
    "    unique_gen, counts_gen = np.unique(generated_categories[column], return_counts=True)\n",
    "    positions_gen = np.arange(len(unique_gen))\n",
    "    ax.bar(positions_gen + offset, counts_gen / counts_gen.sum(), \n",
    "           width=bar_width, color='#FF4040', edgecolor='black', alpha=0.3, label='Generated')\n",
    "    \n",
    "    ax.set_xticks([int(x) for x in unique_hts])\n",
    "    ax.set_xticklabels([int(x) for x in unique_hts], fontsize=12) \n",
    "    \n",
    "    ax.yaxis.set_major_formatter(formatter)\n",
    "    ax.set_yticklabels([f'{x:.2f}' for x in ax.get_yticks()], fontsize=12)\n",
    "    \n",
    "    ax.set_ylabel('Proportion', fontsize=13)\n",
    "\n",
    "fig.suptitle('VAE', fontsize=16, y=1.02)\n",
    "\n",
    "fig.legend(['Ground Truth', 'Generated'], loc='upper right', ncol=2, fontsize=12, \n",
    "           bbox_to_anchor=(1, 1.03), bbox_transform=fig.transFigure)\n",
    "\n",
    "plt.savefig(f'vae_discrete.png', bbox_inches='tight', dpi=400)\n",
    "plt.show()\n",
    "plt.close()"
   ]
  }
 ],
 "metadata": {
  "kernelspec": {
   "display_name": "Python 3",
   "language": "python",
   "name": "python3"
  },
  "language_info": {
   "codemirror_mode": {
    "name": "ipython",
    "version": 3
   },
   "file_extension": ".py",
   "mimetype": "text/x-python",
   "name": "python",
   "nbconvert_exporter": "python",
   "pygments_lexer": "ipython3",
   "version": "3.8.10"
  }
 },
 "nbformat": 4,
 "nbformat_minor": 5
}
